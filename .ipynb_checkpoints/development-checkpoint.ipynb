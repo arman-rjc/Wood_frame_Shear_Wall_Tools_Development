{
 "cells": [
  {
   "cell_type": "code",
   "execution_count": 85,
   "metadata": {},
   "outputs": [],
   "source": [
    "import xlwings as xw"
   ]
  },
  {
   "cell_type": "code",
   "execution_count": 86,
   "metadata": {},
   "outputs": [],
   "source": [
    "import numpy as np\n",
    "import pandas as pd\n",
    "import matplotlib.pyplot as plt"
   ]
  },
  {
   "cell_type": "code",
   "execution_count": 87,
   "metadata": {},
   "outputs": [],
   "source": [
    "# Open Excel Workbook\n",
    "wb = xw.Book('shearwall_data_backup.xlsx')  # Replace with your file name\n",
    "sheet = wb.sheets['SW_info']\n",
    "ws = sheet "
   ]
  },
  {
   "cell_type": "code",
   "execution_count": 88,
   "metadata": {},
   "outputs": [
    {
     "name": "stdout",
     "output_type": "stream",
     "text": [
      "Last Row Number: 48\n",
      "Last Row Value: 20\n"
     ]
    }
   ],
   "source": [
    "# Get the last row in column D\n",
    "last_row = sheet.range('D' + str(sheet.cells.last_cell.row)).end('up').row\n",
    "# Retrieve the value from the last row of column D\n",
    "last_row_value = int(sheet.range(f'D{last_row}').value)\n",
    "\n",
    "print(f\"Last Row Number: {last_row}\")\n",
    "print(f\"Last Row Value: {last_row_value}\")"
   ]
  },
  {
   "cell_type": "code",
   "execution_count": 89,
   "metadata": {},
   "outputs": [
    {
     "name": "stdout",
     "output_type": "stream",
     "text": [
      "Start Cell ID: D28\n"
     ]
    }
   ],
   "source": [
    "# Calculate the starting row ID (D28 in this case)\n",
    "start_row = last_row - last_row_value\n",
    "start_cell_id = f'D{start_row}'\n",
    "print(f\"Start Cell ID: {start_cell_id}\")"
   ]
  },
  {
   "cell_type": "code",
   "execution_count": 90,
   "metadata": {},
   "outputs": [
    {
     "ename": "com_error",
     "evalue": "(-2146827864, 'OLE error 0x800a01a8', None, None)",
     "output_type": "error",
     "traceback": [
      "\u001b[1;31m---------------------------------------------------------------------------\u001b[0m",
      "\u001b[1;31mcom_error\u001b[0m                                 Traceback (most recent call last)",
      "\u001b[1;32m~\\AppData\\Local\\Temp\\ipykernel_19328\\3581745071.py\u001b[0m in \u001b[0;36m?\u001b[1;34m()\u001b[0m\n\u001b[0;32m      7\u001b[0m \u001b[1;33m\u001b[0m\u001b[0m\n\u001b[0;32m      8\u001b[0m \u001b[1;31m# Run the for loop to extract data starting from D29 for `last_row_value` rows\u001b[0m\u001b[1;33m\u001b[0m\u001b[1;33m\u001b[0m\u001b[0m\n\u001b[0;32m      9\u001b[0m \u001b[1;32mfor\u001b[0m \u001b[0mrow\u001b[0m \u001b[1;32min\u001b[0m \u001b[0mrange\u001b[0m\u001b[1;33m(\u001b[0m\u001b[0mstart_row\u001b[0m \u001b[1;33m+\u001b[0m \u001b[1;36m1\u001b[0m\u001b[1;33m,\u001b[0m \u001b[0mstart_row\u001b[0m \u001b[1;33m+\u001b[0m \u001b[1;36m1\u001b[0m \u001b[1;33m+\u001b[0m \u001b[0mlast_row_value\u001b[0m\u001b[1;33m)\u001b[0m\u001b[1;33m:\u001b[0m\u001b[1;33m\u001b[0m\u001b[1;33m\u001b[0m\u001b[0m\n\u001b[0;32m     10\u001b[0m     wall = {\n\u001b[1;32m---> 11\u001b[1;33m         \u001b[1;34m'id'\u001b[0m\u001b[1;33m:\u001b[0m \u001b[0msheet\u001b[0m\u001b[1;33m.\u001b[0m\u001b[0mrange\u001b[0m\u001b[1;33m(\u001b[0m\u001b[1;33mf'\u001b[0m\u001b[1;33mC\u001b[0m\u001b[1;33m{\u001b[0m\u001b[0mrow\u001b[0m\u001b[1;33m}\u001b[0m\u001b[1;33m'\u001b[0m\u001b[1;33m)\u001b[0m\u001b[1;33m.\u001b[0m\u001b[0mvalue\u001b[0m\u001b[1;33m,\u001b[0m\u001b[1;33m\u001b[0m\u001b[1;33m\u001b[0m\u001b[0m\n\u001b[0m\u001b[0;32m     12\u001b[0m         \u001b[1;34m'length'\u001b[0m\u001b[1;33m:\u001b[0m \u001b[0msheet\u001b[0m\u001b[1;33m.\u001b[0m\u001b[0mrange\u001b[0m\u001b[1;33m(\u001b[0m\u001b[1;33mf'\u001b[0m\u001b[1;33mE\u001b[0m\u001b[1;33m{\u001b[0m\u001b[0mrow\u001b[0m\u001b[1;33m}\u001b[0m\u001b[1;33m'\u001b[0m\u001b[1;33m)\u001b[0m\u001b[1;33m.\u001b[0m\u001b[0mvalue\u001b[0m\u001b[1;33m,\u001b[0m\u001b[1;33m\u001b[0m\u001b[1;33m\u001b[0m\u001b[0m\n\u001b[0;32m     13\u001b[0m         \u001b[1;34m'height'\u001b[0m\u001b[1;33m:\u001b[0m \u001b[0msheet\u001b[0m\u001b[1;33m.\u001b[0m\u001b[0mrange\u001b[0m\u001b[1;33m(\u001b[0m\u001b[1;33mf'\u001b[0m\u001b[1;33mF\u001b[0m\u001b[1;33m{\u001b[0m\u001b[0mrow\u001b[0m\u001b[1;33m}\u001b[0m\u001b[1;33m'\u001b[0m\u001b[1;33m)\u001b[0m\u001b[1;33m.\u001b[0m\u001b[0mvalue\u001b[0m\u001b[1;33m,\u001b[0m\u001b[1;33m\u001b[0m\u001b[1;33m\u001b[0m\u001b[0m\n\u001b[0;32m     14\u001b[0m         \u001b[1;34m'x'\u001b[0m\u001b[1;33m:\u001b[0m \u001b[0msheet\u001b[0m\u001b[1;33m.\u001b[0m\u001b[0mrange\u001b[0m\u001b[1;33m(\u001b[0m\u001b[1;33mf'\u001b[0m\u001b[1;33mG\u001b[0m\u001b[1;33m{\u001b[0m\u001b[0mrow\u001b[0m\u001b[1;33m}\u001b[0m\u001b[1;33m'\u001b[0m\u001b[1;33m)\u001b[0m\u001b[1;33m.\u001b[0m\u001b[0mvalue\u001b[0m\u001b[1;33m,\u001b[0m\u001b[1;33m\u001b[0m\u001b[1;33m\u001b[0m\u001b[0m\n",
      "\u001b[1;32m~\\AppData\\Local\\miniforge3\\envs\\pfse\\Lib\\site-packages\\xlwings\\main.py\u001b[0m in \u001b[0;36m?\u001b[1;34m(self, cell1, cell2)\u001b[0m\n\u001b[0;32m   1456\u001b[0m         \u001b[1;32mif\u001b[0m \u001b[0misinstance\u001b[0m\u001b[1;33m(\u001b[0m\u001b[0mcell2\u001b[0m\u001b[1;33m,\u001b[0m \u001b[0mRange\u001b[0m\u001b[1;33m)\u001b[0m\u001b[1;33m:\u001b[0m\u001b[1;33m\u001b[0m\u001b[1;33m\u001b[0m\u001b[0m\n\u001b[0;32m   1457\u001b[0m             \u001b[1;32mif\u001b[0m \u001b[0mcell2\u001b[0m\u001b[1;33m.\u001b[0m\u001b[0msheet\u001b[0m \u001b[1;33m!=\u001b[0m \u001b[0mself\u001b[0m\u001b[1;33m:\u001b[0m\u001b[1;33m\u001b[0m\u001b[1;33m\u001b[0m\u001b[0m\n\u001b[0;32m   1458\u001b[0m                 \u001b[1;32mraise\u001b[0m \u001b[0mValueError\u001b[0m\u001b[1;33m(\u001b[0m\u001b[1;34m\"Second range is not on this sheet\"\u001b[0m\u001b[1;33m)\u001b[0m\u001b[1;33m\u001b[0m\u001b[1;33m\u001b[0m\u001b[0m\n\u001b[0;32m   1459\u001b[0m             \u001b[0mcell2\u001b[0m \u001b[1;33m=\u001b[0m \u001b[0mcell2\u001b[0m\u001b[1;33m.\u001b[0m\u001b[0mimpl\u001b[0m\u001b[1;33m\u001b[0m\u001b[1;33m\u001b[0m\u001b[0m\n\u001b[1;32m-> 1460\u001b[1;33m         \u001b[1;32mreturn\u001b[0m \u001b[0mRange\u001b[0m\u001b[1;33m(\u001b[0m\u001b[0mimpl\u001b[0m\u001b[1;33m=\u001b[0m\u001b[0mself\u001b[0m\u001b[1;33m.\u001b[0m\u001b[0mimpl\u001b[0m\u001b[1;33m.\u001b[0m\u001b[0mrange\u001b[0m\u001b[1;33m(\u001b[0m\u001b[0mcell1\u001b[0m\u001b[1;33m,\u001b[0m \u001b[0mcell2\u001b[0m\u001b[1;33m)\u001b[0m\u001b[1;33m)\u001b[0m\u001b[1;33m\u001b[0m\u001b[1;33m\u001b[0m\u001b[0m\n\u001b[0m",
      "\u001b[1;32m~\\AppData\\Local\\miniforge3\\envs\\pfse\\Lib\\site-packages\\xlwings\\_xlwindows.py\u001b[0m in \u001b[0;36m?\u001b[1;34m(self, arg1, arg2)\u001b[0m\n\u001b[0;32m   1021\u001b[0m         \u001b[1;32melif\u001b[0m \u001b[0misinstance\u001b[0m\u001b[1;33m(\u001b[0m\u001b[0marg1\u001b[0m\u001b[1;33m,\u001b[0m \u001b[0mnumbers\u001b[0m\u001b[1;33m.\u001b[0m\u001b[0mNumber\u001b[0m\u001b[1;33m)\u001b[0m \u001b[1;32mand\u001b[0m \u001b[0misinstance\u001b[0m\u001b[1;33m(\u001b[0m\u001b[0marg2\u001b[0m\u001b[1;33m,\u001b[0m \u001b[0mnumbers\u001b[0m\u001b[1;33m.\u001b[0m\u001b[0mNumber\u001b[0m\u001b[1;33m)\u001b[0m\u001b[1;33m:\u001b[0m\u001b[1;33m\u001b[0m\u001b[1;33m\u001b[0m\u001b[0m\n\u001b[0;32m   1022\u001b[0m             \u001b[0mxl1\u001b[0m \u001b[1;33m=\u001b[0m \u001b[0mself\u001b[0m\u001b[1;33m.\u001b[0m\u001b[0mxl\u001b[0m\u001b[1;33m.\u001b[0m\u001b[0mCells\u001b[0m\u001b[1;33m(\u001b[0m\u001b[0marg1\u001b[0m\u001b[1;33m,\u001b[0m \u001b[0marg2\u001b[0m\u001b[1;33m)\u001b[0m\u001b[1;33m\u001b[0m\u001b[1;33m\u001b[0m\u001b[0m\n\u001b[0;32m   1023\u001b[0m             \u001b[0marg2\u001b[0m \u001b[1;33m=\u001b[0m \u001b[1;32mNone\u001b[0m\u001b[1;33m\u001b[0m\u001b[1;33m\u001b[0m\u001b[0m\n\u001b[0;32m   1024\u001b[0m         \u001b[1;32melse\u001b[0m\u001b[1;33m:\u001b[0m\u001b[1;33m\u001b[0m\u001b[1;33m\u001b[0m\u001b[0m\n\u001b[1;32m-> 1025\u001b[1;33m             \u001b[0mxl1\u001b[0m \u001b[1;33m=\u001b[0m \u001b[0mself\u001b[0m\u001b[1;33m.\u001b[0m\u001b[0mxl\u001b[0m\u001b[1;33m.\u001b[0m\u001b[0mRange\u001b[0m\u001b[1;33m(\u001b[0m\u001b[0marg1\u001b[0m\u001b[1;33m)\u001b[0m\u001b[1;33m\u001b[0m\u001b[1;33m\u001b[0m\u001b[0m\n\u001b[0m\u001b[0;32m   1026\u001b[0m \u001b[1;33m\u001b[0m\u001b[0m\n\u001b[0;32m   1027\u001b[0m         \u001b[1;32mif\u001b[0m \u001b[0marg2\u001b[0m \u001b[1;32mis\u001b[0m \u001b[1;32mNone\u001b[0m\u001b[1;33m:\u001b[0m\u001b[1;33m\u001b[0m\u001b[1;33m\u001b[0m\u001b[0m\n\u001b[0;32m   1028\u001b[0m             \u001b[1;32mreturn\u001b[0m \u001b[0mRange\u001b[0m\u001b[1;33m(\u001b[0m\u001b[0mxl\u001b[0m\u001b[1;33m=\u001b[0m\u001b[0mxl1\u001b[0m\u001b[1;33m)\u001b[0m\u001b[1;33m\u001b[0m\u001b[1;33m\u001b[0m\u001b[0m\n",
      "\u001b[1;32m~\\AppData\\Local\\miniforge3\\envs\\pfse\\Lib\\site-packages\\xlwings\\_xlwindows.py\u001b[0m in \u001b[0;36m?\u001b[1;34m(self, *args, **kwargs)\u001b[0m\n\u001b[0;32m    132\u001b[0m                 \u001b[1;33m)\u001b[0m \u001b[1;32mand\u001b[0m \u001b[0me\u001b[0m\u001b[1;33m.\u001b[0m\u001b[0mhresult\u001b[0m \u001b[1;33m==\u001b[0m \u001b[1;33m-\u001b[0m\u001b[1;36m2147418111\u001b[0m\u001b[1;33m:\u001b[0m\u001b[1;33m\u001b[0m\u001b[1;33m\u001b[0m\u001b[0m\n\u001b[0;32m    133\u001b[0m                     \u001b[0mn_attempt\u001b[0m \u001b[1;33m+=\u001b[0m \u001b[1;36m1\u001b[0m\u001b[1;33m\u001b[0m\u001b[1;33m\u001b[0m\u001b[0m\n\u001b[0;32m    134\u001b[0m                     \u001b[1;32mcontinue\u001b[0m\u001b[1;33m\u001b[0m\u001b[1;33m\u001b[0m\u001b[0m\n\u001b[0;32m    135\u001b[0m                 \u001b[1;32melse\u001b[0m\u001b[1;33m:\u001b[0m\u001b[1;33m\u001b[0m\u001b[1;33m\u001b[0m\u001b[0m\n\u001b[1;32m--> 136\u001b[1;33m                     \u001b[1;32mraise\u001b[0m\u001b[1;33m\u001b[0m\u001b[1;33m\u001b[0m\u001b[0m\n\u001b[0m\u001b[0;32m    137\u001b[0m             \u001b[1;32mexcept\u001b[0m \u001b[0mAttributeError\u001b[0m\u001b[1;33m:\u001b[0m\u001b[1;33m\u001b[0m\u001b[1;33m\u001b[0m\u001b[0m\n\u001b[0;32m    138\u001b[0m                 \u001b[1;32mif\u001b[0m \u001b[1;32mnot\u001b[0m \u001b[0mN_COM_ATTEMPTS\u001b[0m \u001b[1;32mor\u001b[0m \u001b[0mn_attempt\u001b[0m \u001b[1;33m<\u001b[0m \u001b[0mN_COM_ATTEMPTS\u001b[0m\u001b[1;33m:\u001b[0m\u001b[1;33m\u001b[0m\u001b[1;33m\u001b[0m\u001b[0m\n\u001b[0;32m    139\u001b[0m                     \u001b[0mn_attempt\u001b[0m \u001b[1;33m+=\u001b[0m \u001b[1;36m1\u001b[0m\u001b[1;33m\u001b[0m\u001b[1;33m\u001b[0m\u001b[0m\n",
      "\u001b[1;32mC:\\Users\\ACHOWD~1\\AppData\\Local\\Temp\\gen_py\\3.12\\00020813-0000-0000-C000-000000000046x0x1x9.py\u001b[0m in \u001b[0;36m?\u001b[1;34m(self, Cell1, Cell2)\u001b[0m\n\u001b[0;32m  45829\u001b[0m         \u001b[1;32mdef\u001b[0m \u001b[0mRange\u001b[0m\u001b[1;33m(\u001b[0m\u001b[0mself\u001b[0m\u001b[1;33m,\u001b[0m \u001b[0mCell1\u001b[0m\u001b[1;33m=\u001b[0m\u001b[0mdefaultNamedNotOptArg\u001b[0m\u001b[1;33m,\u001b[0m \u001b[0mCell2\u001b[0m\u001b[1;33m=\u001b[0m\u001b[0mdefaultNamedOptArg\u001b[0m\u001b[1;33m)\u001b[0m\u001b[1;33m:\u001b[0m\u001b[1;33m\u001b[0m\u001b[1;33m\u001b[0m\u001b[0m\n\u001b[1;32m> 45830\u001b[1;33m \t\tret = self._oleobj_.InvokeTypes(197, LCID, 2, (9, 0), ((12, 1), (12, 17)),Cell1\n\u001b[0m\u001b[0;32m  45831\u001b[0m                         \u001b[1;33m,\u001b[0m \u001b[0mCell2\u001b[0m\u001b[1;33m)\u001b[0m\u001b[1;33m\u001b[0m\u001b[1;33m\u001b[0m\u001b[0m\n\u001b[0;32m  45832\u001b[0m                 \u001b[1;32mif\u001b[0m \u001b[0mret\u001b[0m \u001b[1;32mis\u001b[0m \u001b[1;32mnot\u001b[0m \u001b[1;32mNone\u001b[0m\u001b[1;33m:\u001b[0m\u001b[1;33m\u001b[0m\u001b[1;33m\u001b[0m\u001b[0m\n\u001b[0;32m  45833\u001b[0m                         \u001b[0mret\u001b[0m \u001b[1;33m=\u001b[0m \u001b[0mDispatch\u001b[0m\u001b[1;33m(\u001b[0m\u001b[0mret\u001b[0m\u001b[1;33m,\u001b[0m \u001b[1;34m'Range'\u001b[0m\u001b[1;33m,\u001b[0m \u001b[1;34m'{00020846-0000-0000-C000-000000000046}'\u001b[0m\u001b[1;33m)\u001b[0m\u001b[1;33m\u001b[0m\u001b[1;33m\u001b[0m\u001b[0m\n",
      "\u001b[1;31mcom_error\u001b[0m: (-2146827864, 'OLE error 0x800a01a8', None, None)"
     ]
    }
   ],
   "source": [
    "# Initialize a list to store wall dictionaries\n",
    "walls = []\n",
    "lengths = []\n",
    "heights = []\n",
    "x_list = []\n",
    "y_list = []\n",
    "\n",
    "# Run the for loop to extract data starting from D29 for `last_row_value` rows\n",
    "for row in range(start_row + 1, start_row + 1 + last_row_value):\n",
    "    wall = {\n",
    "        'id': sheet.range(f'C{row}').value,\n",
    "        'length': sheet.range(f'E{row}').value,\n",
    "        'height': sheet.range(f'F{row}').value,\n",
    "        'x': sheet.range(f'G{row}').value,\n",
    "        'y': sheet.range(f'H{row}').value,\n",
    "    }\n",
    "    walls.append(wall)\n",
    "    # Append individual attributes to their respective lists\n",
    "    lengths.append(wall['length'])\n",
    "    heights.append(wall['height'])\n",
    "    x_list.append(wall['x'])\n",
    "    y_list.append(wall['y'])\n",
    "\n",
    "\n",
    "# Output the extracted walls data\n",
    "# print(\"Extracted Walls Data:\")\n",
    "# Output the individual lists\n",
    "# print(f\"Lengths: {lengths}\")\n",
    "# print(f\"Heights: {heights}\")\n",
    "# print(f\"X Coordinates: {x_list}\")\n",
    "# print(f\"Y Coordinates: {y_list}\")\n",
    "\n",
    "df_walls = pd.DataFrame(walls)\n",
    "df_walls"
   ]
  },
  {
   "cell_type": "code",
   "execution_count": null,
   "metadata": {},
   "outputs": [],
   "source": [
    "# wb = xw.Book('shearwall_data.xlsx')  # Replace with your file name"
   ]
  },
  {
   "cell_type": "code",
   "execution_count": null,
   "metadata": {
    "vscode": {
     "languageId": "plaintext"
    }
   },
   "outputs": [],
   "source": [
    "# This one is for checking at every step "
   ]
  },
  {
   "cell_type": "code",
   "execution_count": null,
   "metadata": {
    "vscode": {
     "languageId": "plaintext"
    }
   },
   "outputs": [],
   "source": [
    "# last_row = sheet.range('A' + str(sheet.cells.last_cell.row)).end('up').row"
   ]
  },
  {
   "cell_type": "code",
   "execution_count": null,
   "metadata": {},
   "outputs": [],
   "source": [
    "# # Open Excel Workbook\n",
    "# wb = xw.Book('shearwall_data.xlsx')  # Replace with your file name\n",
    "# sheet = wb.sheets['SW_info']"
   ]
  },
  {
   "cell_type": "code",
   "execution_count": null,
   "metadata": {},
   "outputs": [],
   "source": [
    "# Extract East West direction wall data from spreadsheet"
   ]
  },
  {
   "cell_type": "code",
   "execution_count": null,
   "metadata": {},
   "outputs": [],
   "source": [
    "# Get the last row in column P\n",
    "last_row_ew = sheet.range('P' + str(sheet.cells.last_cell.row)).end('up').row\n",
    "\n",
    "# Retrieve the number of walls from column P\n",
    "num_walls_ew = int(sheet.range(f'P{last_row_ew}').value)"
   ]
  },
  {
   "cell_type": "code",
   "execution_count": null,
   "metadata": {},
   "outputs": [],
   "source": [
    "# Calculate the starting row ID for east-west walls\n",
    "start_row_ew = last_row_ew - num_walls_ew\n",
    "start_cell_id_ew = f'P{start_row_ew}'\n",
    "print(f\"Start Cell ID: {start_cell_id_ew}\")"
   ]
  },
  {
   "cell_type": "code",
   "execution_count": null,
   "metadata": {},
   "outputs": [],
   "source": [
    "# Initialize lists for east-west direction walls\n",
    "walls_ew = []\n",
    "lengths_ew = []\n",
    "heights_ew = []\n",
    "x_list_ew = []\n",
    "y_list_ew = []\n",
    "\n",
    "# Run the for loop to extract data for east-west walls\n",
    "for row in range(start_row_ew + 1, start_row_ew + 1 + num_walls_ew):\n",
    "    wall_ew = {\n",
    "        'id': sheet.range(f'O{row}').value,\n",
    "        'length': sheet.range(f'Q{row}').value,\n",
    "        'height': sheet.range(f'R{row}').value,\n",
    "        'x': sheet.range(f'S{row}').value,\n",
    "        'y': sheet.range(f'T{row}').value,\n",
    "    }\n",
    "    walls_ew.append(wall_ew)\n",
    "    lengths_ew.append(wall_ew['length'])\n",
    "    heights_ew.append(wall_ew['height'])\n",
    "    x_list_ew.append(wall_ew['x'])\n",
    "    y_list_ew.append(wall_ew['y'])\n",
    "\n"
   ]
  },
  {
   "cell_type": "code",
   "execution_count": null,
   "metadata": {},
   "outputs": [],
   "source": [
    "# Combine north-south and east-west wall data for plotting\n",
    "# (Assuming you have the north-south wall data in walls, x_list, y_list)\n",
    "walls_combined = walls + walls_ew\n",
    "x_combined = x_list + x_list_ew\n",
    "y_combined = y_list + y_list_ew\n",
    "lengths_combined = lengths + lengths_ew\n",
    "\n",
    "df_walls_combined =  pd.DataFrame(walls_combined)\n",
    "df_walls_combined\n",
    "\n",
    "sheet.range('AC28').value = df_walls_combined"
   ]
  },
  {
   "cell_type": "code",
   "execution_count": null,
   "metadata": {},
   "outputs": [],
   "source": [
    "#--------------------------------------------------------------------------------------------------------------\n",
    "# Calculate Center of Mass for North-South Walls\n",
    "total_length_ns = sum(lengths)\n",
    "com_x_ns = sum(length * x for length, x in zip(lengths, x_list)) / total_length_ns\n",
    "com_y_ns = sum(length * y for length, y in zip(lengths, y_list)) / total_length_ns\n",
    "\n",
    "# Calculate Center of Mass for East-West Walls\n",
    "total_length_ew = sum(lengths_ew)\n",
    "com_x_ew = sum(length * x for length, x in zip(lengths_ew, x_list_ew)) / total_length_ew\n",
    "com_y_ew = sum(length * y for length, y in zip(lengths_ew, y_list_ew)) / total_length_ew\n",
    "\n",
    "# # Output results to Excel\n",
    "# sheet.range('J13').value = f\"NS CoM: ({com_x_ns:.2f}, {com_y_ns:.2f})\"\n",
    "# sheet.range('J14').value = f\"EW CoM: ({com_x_ew:.2f}, {com_y_ew:.2f})\"\n",
    "\n",
    "# Output results to Excel\n",
    "sheet.range('J13').value = com_x_ns  # center of mass in x direction\n",
    "sheet.range('J14').value = com_y_ew  # center of mass in y direction\n",
    "\n",
    "\n",
    "# Print results for confirmation\n",
    "print(f\"NS Center of Mass: ({com_x_ns:.2f}, {com_y_ns:.2f})\")\n",
    "print(f\"EW Center of Mass: ({com_x_ew:.2f}, {com_y_ew:.2f})\")"
   ]
  },
  {
   "cell_type": "markdown",
   "metadata": {},
   "source": [
    "# Visualization using matplotlib"
   ]
  },
  {
   "cell_type": "code",
   "execution_count": null,
   "metadata": {},
   "outputs": [],
   "source": [
    "\n",
    "# Visualization using matplotlib\n",
    "fig, ax = plt.subplots(figsize=(5, 4))  # Create figure and axis\n",
    "\n",
    "# Plot north-south walls\n",
    "for i, (x, y, length) in enumerate(zip(x_list, y_list, lengths)):\n",
    "    ax.plot([x, x], [y, y + length], label=f\"NS Wall {i+1}\", color='blue')\n",
    "\n",
    "# Plot east-west walls\n",
    "for i, (x, y, length) in enumerate(zip(x_list_ew, y_list_ew, lengths_ew)):\n",
    "    ax.plot([x, x + length], [y, y], label=f\"EW Wall {i+1}\", color='red')\n",
    "\n",
    "# Add the (com_x_ns, com_y_ew) coordinate with a larger dot\n",
    "ax.scatter(com_x_ns, com_y_ew, color='green', s=100, label='(CoM_x_NS, CoM_y_EW)', zorder=5)\n",
    "\n",
    "# Formatting the plot\n",
    "ax.set_xlabel('X Coordinate')\n",
    "ax.set_ylabel('Y Coordinate')\n",
    "ax.set_title('Shear Wall Layout')\n",
    "# ax.legend(loc='upper right')\n",
    "ax.grid(True)\n",
    "ax.axis('equal')\n",
    "\n",
    "# Embed the plot in Excel at cell O9\n",
    "ws.pictures.add(fig, name='ShearWallPlot', update=True, anchor=ws.range(\"C64\"))\n",
    "\n",
    "# Display the plot (optional, for verification in Python)\n",
    "plt.show()\n"
   ]
  },
  {
   "cell_type": "code",
   "execution_count": null,
   "metadata": {},
   "outputs": [],
   "source": [
    "# #--------------------------------------------------------------------------------------------------------------\n",
    "\n",
    "# # Visualization using matplotlib\n",
    "# plt.figure(figsize=(10, 8))\n",
    "\n",
    "# # Plot north-south walls\n",
    "# for i, (x, y, length) in enumerate(zip(x_list, y_list, lengths)):\n",
    "#     plt.plot([x, x], [y, y + length], label=f\"NS Wall {i+1}\", color='blue')\n",
    "\n",
    "# # Plot east-west walls\n",
    "# for i, (x, y, length) in enumerate(zip(x_list_ew, y_list_ew, lengths_ew)):\n",
    "#     plt.plot([x, x + length], [y, y], label=f\"EW Wall {i+1}\", color='red')\n",
    "\n",
    "# # Add the (com_x_ns, com_y_ew) coordinate with a larger dot\n",
    "# plt.scatter(com_x_ns, com_y_ew, color='green', s=100, label='(CoM_x_NS, CoM_y_EW)', zorder=5)\n",
    "\n",
    "\n",
    "# # Formatting the plot\n",
    "# plt.xlabel('X Coordinate')\n",
    "# plt.ylabel('Y Coordinate')\n",
    "# plt.title('Shear Wall Layout')\n",
    "# # plt.legend(loc='upper right')\n",
    "# plt.grid(True)\n",
    "# plt.axis('equal')\n",
    "\n",
    "\n",
    "\n",
    "# # # Save the plot as an image\n",
    "# # plot_image_path = 'shear_wall_layout.png'\n",
    "# # plt.savefig(plot_image_path)\n",
    "\n",
    "# # # Insert the image into the Excel sheet\n",
    "# # sheet_presentation = wb.sheets.add('Wall Layout')\n",
    "# # sheet_presentation.pictures.add(plot_image_path, left=50, top=50)  # Adjust left and top for placement\n",
    "\n",
    "# # # Save the plot as an image\n",
    "# # plot_image_path = 'shear_wall_layout.png'\n",
    "# # plt.savefig(plot_image_path)\n",
    "\n",
    "# # # Insert the image into the Excel sheet at cell O9\n",
    "# # cell_location = sheet.range('O9')\n",
    "# # sheet.pictures.add(plot_image_path, left=cell_location.left, top=cell_location.top)\n",
    "\n",
    "# # Display the plot (optional)\n",
    "# plt.show()\n",
    "\n",
    "# ws.pictures.add(fig, name='MyPlot7', update=True, anchor = ws.range(\"C64\"))"
   ]
  },
  {
   "cell_type": "markdown",
   "metadata": {},
   "source": [
    "# Calculate Center of Mass for North-South Walls"
   ]
  },
  {
   "cell_type": "code",
   "execution_count": null,
   "metadata": {},
   "outputs": [],
   "source": [
    "\n",
    "total_length_ns = sum(lengths)\n",
    "# com_x_ns = sum(length * x for length, x in zip(lengths, x_list)) / total_length_ns\n",
    "com_y_ns = sum(length * y for length, y in zip(lengths, y_list)) / total_length_ns\n",
    "\n",
    "# Calculate Center of Mass for East-West Walls\n",
    "total_length_ew = sum(lengths_ew)\n",
    "com_x_ew = sum(length * x for length, x in zip(lengths_ew, x_list_ew)) / total_length_ew\n",
    "# com_y_ew = sum(length * y for length, y in zip(lengths_ew, y_list_ew)) / total_length_ew\n",
    "\n",
    "\n",
    "# Output results to Excel\n",
    "sheet.range('J13').value = com_x_ns\n",
    "sheet.range('J14').value = com_y_ew\n",
    "\n",
    "\n",
    "# Print results for confirmation\n",
    "print(f\"NS Center of Mass (x): ({com_x_ns:.2f})\")\n",
    "print(f\"EW Center of Mass (y): ({com_y_ew:.2f})\")\n"
   ]
  },
  {
   "cell_type": "markdown",
   "metadata": {},
   "source": [
    "# Shear force component for East West direction"
   ]
  },
  {
   "cell_type": "code",
   "execution_count": null,
   "metadata": {},
   "outputs": [],
   "source": [
    "\n",
    "#----------------------------------------------------------\n",
    "# Initialize an empty list to store the normalized lengths\n",
    "normalized_lengths_ew = []\n",
    "\n",
    "# Loop through each length in the list\n",
    "for length_ew in lengths_ew:\n",
    "    # Divide the current length by the total length\n",
    "    normalized_value_ew = length_ew / total_length_ew\n",
    "    \n",
    "    # Append the normalized value to the new list\n",
    "    normalized_lengths_ew.append(normalized_value_ew)\n",
    "\n",
    "# Print the result (optional)\n",
    "print(\"Normalized Lengths for EW Walls:\", normalized_lengths_ew)\n",
    "\n",
    "# Output results to Excel\n",
    "sheet.range('V29').options(transpose=True).value = normalized_lengths_ew\n",
    "\n",
    "\n"
   ]
  },
  {
   "cell_type": "markdown",
   "metadata": {},
   "source": [
    "# Shear force component for North South direction"
   ]
  },
  {
   "cell_type": "code",
   "execution_count": null,
   "metadata": {},
   "outputs": [],
   "source": [
    "\n",
    "#----------------------------------------------------------\n",
    "# Initialize an empty list to store the normalized lengths\n",
    "normalized_lengths_ns = []\n",
    "\n",
    "# Loop through each length in the list\n",
    "for length in lengths:\n",
    "    # Divide the current length by the total length\n",
    "    normalized_value = length / total_length_ns\n",
    "    \n",
    "    # Append the normalized value to the new list\n",
    "    normalized_lengths_ns.append(normalized_value)\n",
    "\n",
    "# Print the result (optional)\n",
    "print(\"Normalized Lengths for NS Walls:\", normalized_lengths_ns)\n",
    "\n",
    "# Output results to Excel\n",
    "sheet.range('J29').options(transpose=True).value = normalized_lengths_ns"
   ]
  },
  {
   "cell_type": "markdown",
   "metadata": {},
   "source": [
    "# Torsional moment along NS direction"
   ]
  },
  {
   "cell_type": "code",
   "execution_count": null,
   "metadata": {},
   "outputs": [],
   "source": [
    "\n",
    "M_tor_ns = []\n",
    "longest_dimension_ns = sheet.range('J10').value \n",
    "for length in lengths:\n",
    "    M_tor_ns.append(0.1*longest_dimension_ns)\n",
    "\n",
    "# Output results to Excel\n",
    "sheet.range('K29').options(transpose=True).value = M_tor_ns"
   ]
  },
  {
   "cell_type": "markdown",
   "metadata": {},
   "source": [
    "# Torsional moment along EW direction"
   ]
  },
  {
   "cell_type": "code",
   "execution_count": null,
   "metadata": {},
   "outputs": [],
   "source": [
    "M_tor_ew = []\n",
    "longest_dimension_ew = sheet.range('J11').value \n",
    "for length_ew in lengths_ew:\n",
    "    M_tor_ew.append(0.1*longest_dimension_ew)\n",
    "\n",
    "# Output results to Excel\n",
    "sheet.range('W29').options(transpose=True).value = M_tor_ew"
   ]
  },
  {
   "cell_type": "markdown",
   "metadata": {},
   "source": [
    "# Calculate kdx"
   ]
  },
  {
   "cell_type": "code",
   "execution_count": null,
   "metadata": {},
   "outputs": [],
   "source": [
    "lengths\n",
    "x_list\n",
    "\n",
    "kdx_list = []\n",
    "for idx,length_ns in enumerate(lengths):\n",
    "    kdx_list.append(lengths[idx]*x_list[idx])\n",
    "print(kdx_list)\n",
    "kdx_list_sum = sum(kdx_list)\n",
    "\n",
    "x_cr = kdx_list_sum/total_length_ns\n",
    "\n",
    "print(x_cr)\n",
    "# Output results to Excel\n",
    "sheet.range('J16').value = x_cr\n",
    "\n",
    "d_x_list = []\n",
    "for idx,length_ns in enumerate(lengths):\n",
    "    d_x_list.append(abs(x_cr-x_list[idx]))\n",
    "\n",
    "print(d_x_list)\n",
    "# Output results to Excel\n",
    "sheet.range('I29').options(transpose=True).value = d_x_list\n",
    "\n",
    "\n",
    "kdx_2_list = []\n",
    "for idx,length_ns in enumerate(lengths):\n",
    "    kdx_2_list.append(lengths[idx]*d_x_list[idx]**2)\n",
    "    \n",
    "\n",
    "print(kdx_2_list)\n",
    "\n",
    "Jpx = sum(kdx_2_list)\n",
    "print(Jpx)\n",
    "# Output results to Excel\n",
    "sheet.range('J19').value = Jpx\n",
    "\n",
    "normalized_lengths_ns\n",
    "V_total_ns_list = []\n",
    "for idx,length_ns in enumerate(lengths):\n",
    "    V_total_ns_list.append(normalized_lengths_ns[idx]+(M_tor_ns[idx]*kdx_list[idx])/Jpx)\n",
    "\n",
    "print(V_total_ns_list)\n",
    "\n",
    "# Output results to Excel\n",
    "sheet.range('L29').options(transpose=True).value = V_total_ns_list"
   ]
  },
  {
   "cell_type": "markdown",
   "metadata": {},
   "source": [
    "# Calculate kdy"
   ]
  },
  {
   "cell_type": "code",
   "execution_count": null,
   "metadata": {},
   "outputs": [],
   "source": [
    "lengths_ew\n",
    "y_list_ew\n",
    "\n",
    "kdy_list = []\n",
    "for idx,length_ew in enumerate(lengths_ew):\n",
    "    kdy_list.append(lengths_ew[idx]*y_list_ew[idx])\n",
    "\n",
    "print(kdy_list)\n"
   ]
  },
  {
   "cell_type": "code",
   "execution_count": null,
   "metadata": {},
   "outputs": [],
   "source": [
    "kdy_list_sum = sum(kdy_list)\n",
    "\n",
    "y_cr = kdy_list_sum/total_length_ew\n",
    "\n",
    "print(y_cr)"
   ]
  },
  {
   "cell_type": "code",
   "execution_count": null,
   "metadata": {},
   "outputs": [],
   "source": [
    "# Output results to Excel\n",
    "sheet.range('J17').value = y_cr\n",
    "\n",
    "d_y_list = []\n",
    "for idx,length_ew in enumerate(lengths_ew):\n",
    "    d_y_list.append(abs(y_cr-y_list_ew[idx]))\n",
    "\n",
    "print(d_y_list)\n",
    "\n",
    "# Output results to Excel\n",
    "sheet.range('U29').options(transpose=True).value = d_y_list"
   ]
  },
  {
   "cell_type": "code",
   "execution_count": null,
   "metadata": {},
   "outputs": [],
   "source": [
    "kdy_2_list = []\n",
    "for idx,length_ew in enumerate(lengths_ew):\n",
    "    kdy_2_list.append(lengths_ew[idx]*d_y_list[idx]**2)\n",
    "    \n",
    "\n",
    "print(kdy_2_list)\n",
    "\n",
    "Jpy = sum(kdy_2_list)\n",
    "print(Jpy)\n",
    "# Output results to Excel\n",
    "sheet.range('J20').value = Jpy\n",
    "\n",
    "\n",
    "V_total_ew_list = []\n",
    "for idx,length_ew in enumerate(lengths_ew):\n",
    "    V_total_ew_list.append(normalized_lengths_ew[idx]+(M_tor_ew[idx]*kdy_list[idx])/Jpy)\n",
    "\n",
    "print(V_total_ew_list)\n",
    "\n",
    "# Output results to Excel\n",
    "sheet.range('X29').options(transpose=True).value = V_total_ew_list"
   ]
  },
  {
   "cell_type": "markdown",
   "metadata": {},
   "source": [
    "# Total V Calculation"
   ]
  },
  {
   "cell_type": "code",
   "execution_count": null,
   "metadata": {},
   "outputs": [],
   "source": [
    "M_tor_ns\n",
    "lengths\n",
    "\n"
   ]
  },
  {
   "cell_type": "markdown",
   "metadata": {},
   "source": [
    "# Calculate center of rigidity (CoR)"
   ]
  },
  {
   "cell_type": "code",
   "execution_count": null,
   "metadata": {},
   "outputs": [],
   "source": [
    "# # Rigidities of walls in NS direction\n",
    "# rigidities_x = []\n",
    "# for wall_x in walls_ew:\n",
    "#     height = wall_x['height']\n",
    "#     length = wall_x['length']\n",
    "#     delta = 4 * (height / length)**3 + 3 * (height / length)\n",
    "#     rigidity_x = 1 / delta\n",
    "#     rigidities_x.append(rigidity_x)\n",
    "\n",
    "\n",
    "# print(rigidities_x)\n",
    "\n",
    "# # Output results to Excel\n",
    "# # sheet.range('W29').options(transpose=True).value = rigidities_x\n"
   ]
  },
  {
   "cell_type": "code",
   "execution_count": null,
   "metadata": {},
   "outputs": [],
   "source": [
    "# # Rigidities of walls in EW direction\n",
    "# rigidities_y = []\n",
    "# for wall_y in walls:\n",
    "#     height = wall_y['height']\n",
    "#     length = wall_y['length']\n",
    "#     delta = 4 * (height / length)**3 + 3 * (height / length)\n",
    "#     rigidity_y = 1 / delta\n",
    "#     rigidities_y.append(rigidity_y)\n",
    "\n",
    "\n",
    "# print(rigidities_y)\n",
    "\n",
    "# # Output results to Excel\n",
    "# # sheet.range('K29').options(transpose=True).value = rigidities_y"
   ]
  },
  {
   "cell_type": "code",
   "execution_count": null,
   "metadata": {},
   "outputs": [],
   "source": [
    "# # Center of Rigidity along x direction for EW direction walls \n",
    "# total_rigidity_x = 0\n",
    "# weighted_x = 0\n",
    "\n",
    "\n",
    "# for wall_ew, rigidity_ew in zip(walls_ew, rigidities_x):\n",
    "#     if rigidity_ew > 0:  # Ensure non-zero rigidity\n",
    "#         weighted_x += rigidity_ew * wall_ew['x']\n",
    "#         total_rigidity_x += rigidity_ew if wall_ew['x'] != 0 else 0\n",
    "\n",
    "\n",
    "# CoR_x = weighted_x / total_rigidity_x if total_rigidity_x != 0 else 0\n",
    "\n",
    "# print(CoR_x)"
   ]
  },
  {
   "cell_type": "code",
   "execution_count": null,
   "metadata": {},
   "outputs": [],
   "source": [
    "# # Center of Rigidity along x direction for EW direction walls \n",
    "\n",
    "# total_rigidity_y = 0\n",
    "# weighted_y = 0\n",
    "\n",
    "# for wall_ns, rigidity_ns in zip(walls, rigidities_y):\n",
    "#     if rigidity_ns > 0:  # Ensure non-zero rigidity\n",
    "#         weighted_y += rigidity_ns * wall_ns['y']\n",
    "#         total_rigidity_y += rigidity_ns if wall_ns['y'] != 0 else 0\n",
    "\n",
    "# CoR_y = weighted_y / total_rigidity_y if total_rigidity_y != 0 else 0\n",
    "\n",
    "# print(CoR_y)"
   ]
  },
  {
   "cell_type": "code",
   "execution_count": null,
   "metadata": {},
   "outputs": [],
   "source": [
    "# # Polar moment of inertia along x axis (EW direction walls) calculation\n",
    "# Jpx = 0\n",
    "# x_bar_list = []\n",
    "\n",
    "# for wall_ew, rigidity_ew in zip(walls_ew, rigidities_x):\n",
    "#     x_bar_ew = wall_ew['x'] - CoR_x\n",
    "#     x_bar_list.append(x_bar_ew)\n",
    "#     Jpx += rigidity_ew * (x_bar_ew**2)\n",
    "\n",
    "# # Output results to Excel\n",
    "# sheet.range('U29').options(transpose=True).value = x_bar_list\n",
    "# print(Jpx)"
   ]
  },
  {
   "cell_type": "code",
   "execution_count": null,
   "metadata": {},
   "outputs": [],
   "source": [
    "# # Polar moment of inertia along y axis calculation\n",
    "# Jpy = 0\n",
    "# y_bar_list = []\n",
    "\n",
    "# for wall_ns, rigidity_ns in zip(walls, rigidities_y):\n",
    "#     y_bar_ns = wall_ns['y'] - CoR_y\n",
    "#     y_bar_list.append(y_bar_ns)\n",
    "#     Jpy += rigidity_ns * ( y_bar_ns**2)\n",
    "\n",
    "# sheet.range('I29').options(transpose=True).value = y_bar_list\n",
    "# print(Jpy)"
   ]
  },
  {
   "attachments": {
    "b829fb82-d09f-474f-ba41-39daf381ef33.png": {
     "image/png": "[encoded data removed]"
    }
   },
   "cell_type": "markdown",
   "metadata": {},
   "source": [
    "![image.png](attachment:b829fb82-d09f-474f-ba41-39daf381ef33.png)"
   ]
  },
  {
   "cell_type": "code",
   "execution_count": null,
   "metadata": {},
   "outputs": [],
   "source": []
  },
  {
   "cell_type": "code",
   "execution_count": null,
   "metadata": {},
   "outputs": [],
   "source": [
    "# CoR_x"
   ]
  },
  {
   "cell_type": "code",
   "execution_count": null,
   "metadata": {},
   "outputs": [],
   "source": [
    "# CoR_y"
   ]
  },
  {
   "cell_type": "code",
   "execution_count": null,
   "metadata": {},
   "outputs": [],
   "source": [
    "# Jp = 0\n",
    "# x_bar_list = []\n",
    "# y_bar_list = []\n",
    "# for wall, rigidity in zip(walls, rigidities):\n",
    "#     x_bar = wall['x'] - CoR_x\n",
    "#     x_bar_list.append(x_bar)\n",
    "#     y_bar = wall['y'] - CoR_y\n",
    "#     y_bar_list.append(y_bar)\n",
    "#     Jp += rigidity * (x_bar**2 + y_bar**2)\n",
    "\n",
    "# # Output results to Excel\n",
    "# sheet.range('I29').options(transpose=True).value = x_bar_list\n",
    "# sheet.range('U29').options(transpose=True).value = y_bar_list\n",
    "# print(Jp)"
   ]
  },
  {
   "cell_type": "code",
   "execution_count": null,
   "metadata": {},
   "outputs": [],
   "source": [
    "# e_x_real = CoM[0] - CoR[0]\n",
    "# e_y_real = CoM[1] - CoR[1]\n",
    "# e_x_accidental = 0.1 * longest_dimension\n",
    "# e_y_accidental = 0.1 * longest_dimension\n",
    "\n",
    "# torsion_effects = []\n",
    "# for wall, rigidity in zip(walls, rigidities):\n",
    "#     x_bar = wall['x'] - CoR[0]\n",
    "#     y_bar = wall['y'] - CoR[1]\n",
    "#     torsion_force_x = ((e_x_real + e_x_accidental) * rigidity * y_bar) / Jp\n",
    "#     torsion_force_y = ((e_y_real + e_y_accidental) * rigidity * x_bar) / Jp\n",
    "#     torsion_effects.append((torsion_force_x, torsion_force_y))"
   ]
  }
 ],
 "metadata": {
  "kernelspec": {
   "display_name": "Python 3 (pfse)",
   "language": "python",
   "name": "pfse"
  },
  "language_info": {
   "codemirror_mode": {
    "name": "ipython",
    "version": 3
   },
   "file_extension": ".py",
   "mimetype": "text/x-python",
   "name": "python",
   "nbconvert_exporter": "python",
   "pygments_lexer": "ipython3",
   "version": "3.12.8"
  }
 },
 "nbformat": 4,
 "nbformat_minor": 4
}
