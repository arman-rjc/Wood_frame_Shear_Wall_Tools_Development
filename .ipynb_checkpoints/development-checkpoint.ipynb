{
 "cells": [
  {
   "cell_type": "code",
   "execution_count": 136,
   "metadata": {},
   "outputs": [],
   "source": [
    "import xlwings as xw"
   ]
  },
  {
   "cell_type": "code",
   "execution_count": 137,
   "metadata": {},
   "outputs": [],
   "source": [
    "import numpy as np\n",
    "import pandas as pd\n",
    "import matplotlib.pyplot as plt"
   ]
  },
  {
   "cell_type": "code",
   "execution_count": 138,
   "metadata": {},
   "outputs": [],
   "source": [
    "# Open Excel Workbook\n",
    "wb = xw.Book('shearwall_data.xlsx')  # Replace with your file name\n",
    "sheet = wb.sheets['SW_info']"
   ]
  },
  {
   "cell_type": "code",
   "execution_count": 139,
   "metadata": {},
   "outputs": [
    {
     "name": "stdout",
     "output_type": "stream",
     "text": [
      "Last Row Number: 48\n",
      "Last Row Value: 20\n"
     ]
    }
   ],
   "source": [
    "# Get the last row in column D\n",
    "last_row = sheet.range('D' + str(sheet.cells.last_cell.row)).end('up').row\n",
    "# Retrieve the value from the last row of column D\n",
    "last_row_value = int(sheet.range(f'D{last_row}').value)\n",
    "\n",
    "print(f\"Last Row Number: {last_row}\")\n",
    "print(f\"Last Row Value: {last_row_value}\")"
   ]
  },
  {
   "cell_type": "code",
   "execution_count": 140,
   "metadata": {},
   "outputs": [
    {
     "name": "stdout",
     "output_type": "stream",
     "text": [
      "Start Cell ID: D28\n"
     ]
    }
   ],
   "source": [
    "# Calculate the starting row ID (D28 in this case)\n",
    "start_row = last_row - last_row_value\n",
    "start_cell_id = f'D{start_row}'\n",
    "print(f\"Start Cell ID: {start_cell_id}\")"
   ]
  },
  {
   "cell_type": "code",
   "execution_count": 141,
   "metadata": {},
   "outputs": [
    {
     "data": {
      "text/html": [
       "<div>\n",
       "<style scoped>\n",
       "    .dataframe tbody tr th:only-of-type {\n",
       "        vertical-align: middle;\n",
       "    }\n",
       "\n",
       "    .dataframe tbody tr th {\n",
       "        vertical-align: top;\n",
       "    }\n",
       "\n",
       "    .dataframe thead th {\n",
       "        text-align: right;\n",
       "    }\n",
       "</style>\n",
       "<table border=\"1\" class=\"dataframe\">\n",
       "  <thead>\n",
       "    <tr style=\"text-align: right;\">\n",
       "      <th></th>\n",
       "      <th>id</th>\n",
       "      <th>length</th>\n",
       "      <th>height</th>\n",
       "      <th>x</th>\n",
       "      <th>y</th>\n",
       "    </tr>\n",
       "  </thead>\n",
       "  <tbody>\n",
       "    <tr>\n",
       "      <th>0</th>\n",
       "      <td>NS1</td>\n",
       "      <td>4.634146</td>\n",
       "      <td>3.2</td>\n",
       "      <td>2.103659</td>\n",
       "      <td>21.458537</td>\n",
       "    </tr>\n",
       "    <tr>\n",
       "      <th>1</th>\n",
       "      <td>NS2</td>\n",
       "      <td>6.768293</td>\n",
       "      <td>3.2</td>\n",
       "      <td>9.756098</td>\n",
       "      <td>21.915854</td>\n",
       "    </tr>\n",
       "    <tr>\n",
       "      <th>2</th>\n",
       "      <td>NS3</td>\n",
       "      <td>4.085366</td>\n",
       "      <td>3.2</td>\n",
       "      <td>9.756098</td>\n",
       "      <td>14.171951</td>\n",
       "    </tr>\n",
       "    <tr>\n",
       "      <th>3</th>\n",
       "      <td>NS4</td>\n",
       "      <td>4.085366</td>\n",
       "      <td>3.2</td>\n",
       "      <td>9.756098</td>\n",
       "      <td>14.171951</td>\n",
       "    </tr>\n",
       "    <tr>\n",
       "      <th>4</th>\n",
       "      <td>NS5</td>\n",
       "      <td>7.591463</td>\n",
       "      <td>3.2</td>\n",
       "      <td>12.652439</td>\n",
       "      <td>22.327439</td>\n",
       "    </tr>\n",
       "    <tr>\n",
       "      <th>5</th>\n",
       "      <td>NS6</td>\n",
       "      <td>7.621951</td>\n",
       "      <td>3.2</td>\n",
       "      <td>18.902439</td>\n",
       "      <td>22.190244</td>\n",
       "    </tr>\n",
       "    <tr>\n",
       "      <th>6</th>\n",
       "      <td>NS7</td>\n",
       "      <td>7.621951</td>\n",
       "      <td>3.2</td>\n",
       "      <td>18.902439</td>\n",
       "      <td>12.739024</td>\n",
       "    </tr>\n",
       "    <tr>\n",
       "      <th>7</th>\n",
       "      <td>NS8</td>\n",
       "      <td>7.621951</td>\n",
       "      <td>3.2</td>\n",
       "      <td>25.152439</td>\n",
       "      <td>22.190244</td>\n",
       "    </tr>\n",
       "    <tr>\n",
       "      <th>8</th>\n",
       "      <td>NS9</td>\n",
       "      <td>7.621951</td>\n",
       "      <td>3.2</td>\n",
       "      <td>25.457317</td>\n",
       "      <td>12.739024</td>\n",
       "    </tr>\n",
       "    <tr>\n",
       "      <th>9</th>\n",
       "      <td>NS10</td>\n",
       "      <td>4.573171</td>\n",
       "      <td>3.2</td>\n",
       "      <td>31.097561</td>\n",
       "      <td>23.562195</td>\n",
       "    </tr>\n",
       "    <tr>\n",
       "      <th>10</th>\n",
       "      <td>NS11</td>\n",
       "      <td>7.621951</td>\n",
       "      <td>3.2</td>\n",
       "      <td>34.451220</td>\n",
       "      <td>22.190244</td>\n",
       "    </tr>\n",
       "    <tr>\n",
       "      <th>11</th>\n",
       "      <td>NS12</td>\n",
       "      <td>4.420732</td>\n",
       "      <td>3.2</td>\n",
       "      <td>37.195122</td>\n",
       "      <td>12.510366</td>\n",
       "    </tr>\n",
       "    <tr>\n",
       "      <th>12</th>\n",
       "      <td>NS13</td>\n",
       "      <td>7.621951</td>\n",
       "      <td>3.2</td>\n",
       "      <td>40.701220</td>\n",
       "      <td>22.190244</td>\n",
       "    </tr>\n",
       "    <tr>\n",
       "      <th>13</th>\n",
       "      <td>NS14</td>\n",
       "      <td>7.621951</td>\n",
       "      <td>3.2</td>\n",
       "      <td>40.701220</td>\n",
       "      <td>22.190244</td>\n",
       "    </tr>\n",
       "    <tr>\n",
       "      <th>14</th>\n",
       "      <td>NS15</td>\n",
       "      <td>2.896341</td>\n",
       "      <td>3.2</td>\n",
       "      <td>37.804878</td>\n",
       "      <td>1.687195</td>\n",
       "    </tr>\n",
       "    <tr>\n",
       "      <th>15</th>\n",
       "      <td>NS16</td>\n",
       "      <td>6.829268</td>\n",
       "      <td>3.2</td>\n",
       "      <td>41.768293</td>\n",
       "      <td>3.653659</td>\n",
       "    </tr>\n",
       "    <tr>\n",
       "      <th>16</th>\n",
       "      <td>NS17</td>\n",
       "      <td>6.829268</td>\n",
       "      <td>3.2</td>\n",
       "      <td>41.768293</td>\n",
       "      <td>3.653659</td>\n",
       "    </tr>\n",
       "    <tr>\n",
       "      <th>17</th>\n",
       "      <td>NS18</td>\n",
       "      <td>4.512195</td>\n",
       "      <td>3.2</td>\n",
       "      <td>44.969512</td>\n",
       "      <td>2.495122</td>\n",
       "    </tr>\n",
       "    <tr>\n",
       "      <th>18</th>\n",
       "      <td>NS19</td>\n",
       "      <td>2.804878</td>\n",
       "      <td>3.2</td>\n",
       "      <td>44.969512</td>\n",
       "      <td>7.129268</td>\n",
       "    </tr>\n",
       "    <tr>\n",
       "      <th>19</th>\n",
       "      <td>NS20</td>\n",
       "      <td>2.835366</td>\n",
       "      <td>3.2</td>\n",
       "      <td>44.207317</td>\n",
       "      <td>25.437195</td>\n",
       "    </tr>\n",
       "  </tbody>\n",
       "</table>\n",
       "</div>"
      ],
      "text/plain": [
       "      id    length  height          x          y\n",
       "0    NS1  4.634146     3.2   2.103659  21.458537\n",
       "1    NS2  6.768293     3.2   9.756098  21.915854\n",
       "2    NS3  4.085366     3.2   9.756098  14.171951\n",
       "3    NS4  4.085366     3.2   9.756098  14.171951\n",
       "4    NS5  7.591463     3.2  12.652439  22.327439\n",
       "5    NS6  7.621951     3.2  18.902439  22.190244\n",
       "6    NS7  7.621951     3.2  18.902439  12.739024\n",
       "7    NS8  7.621951     3.2  25.152439  22.190244\n",
       "8    NS9  7.621951     3.2  25.457317  12.739024\n",
       "9   NS10  4.573171     3.2  31.097561  23.562195\n",
       "10  NS11  7.621951     3.2  34.451220  22.190244\n",
       "11  NS12  4.420732     3.2  37.195122  12.510366\n",
       "12  NS13  7.621951     3.2  40.701220  22.190244\n",
       "13  NS14  7.621951     3.2  40.701220  22.190244\n",
       "14  NS15  2.896341     3.2  37.804878   1.687195\n",
       "15  NS16  6.829268     3.2  41.768293   3.653659\n",
       "16  NS17  6.829268     3.2  41.768293   3.653659\n",
       "17  NS18  4.512195     3.2  44.969512   2.495122\n",
       "18  NS19  2.804878     3.2  44.969512   7.129268\n",
       "19  NS20  2.835366     3.2  44.207317  25.437195"
      ]
     },
     "execution_count": 141,
     "metadata": {},
     "output_type": "execute_result"
    }
   ],
   "source": [
    "# Initialize a list to store wall dictionaries\n",
    "walls = []\n",
    "lengths = []\n",
    "heights = []\n",
    "x_list = []\n",
    "y_list = []\n",
    "\n",
    "# Run the for loop to extract data starting from D29 for `last_row_value` rows\n",
    "for row in range(start_row + 1, start_row + 1 + last_row_value):\n",
    "    wall = {\n",
    "        'id': sheet.range(f'C{row}').value,\n",
    "        'length': sheet.range(f'E{row}').value,\n",
    "        'height': sheet.range(f'F{row}').value,\n",
    "        'x': sheet.range(f'G{row}').value,\n",
    "        'y': sheet.range(f'H{row}').value,\n",
    "    }\n",
    "    walls.append(wall)\n",
    "    # Append individual attributes to their respective lists\n",
    "    lengths.append(wall['length'])\n",
    "    heights.append(wall['height'])\n",
    "    x_list.append(wall['x'])\n",
    "    y_list.append(wall['y'])\n",
    "\n",
    "\n",
    "# Output the extracted walls data\n",
    "# print(\"Extracted Walls Data:\")\n",
    "# Output the individual lists\n",
    "# print(f\"Lengths: {lengths}\")\n",
    "# print(f\"Heights: {heights}\")\n",
    "# print(f\"X Coordinates: {x_list}\")\n",
    "# print(f\"Y Coordinates: {y_list}\")\n",
    "\n",
    "df_walls = pd.DataFrame(walls)\n",
    "df_walls"
   ]
  },
  {
   "cell_type": "code",
   "execution_count": 142,
   "metadata": {},
   "outputs": [],
   "source": [
    "# wb = xw.Book('shearwall_data.xlsx')  # Replace with your file name"
   ]
  },
  {
   "cell_type": "code",
   "execution_count": 143,
   "metadata": {
    "vscode": {
     "languageId": "plaintext"
    }
   },
   "outputs": [],
   "source": [
    "# This one is for checking at every step "
   ]
  },
  {
   "cell_type": "code",
   "execution_count": 144,
   "metadata": {
    "vscode": {
     "languageId": "plaintext"
    }
   },
   "outputs": [],
   "source": [
    "# last_row = sheet.range('A' + str(sheet.cells.last_cell.row)).end('up').row"
   ]
  },
  {
   "cell_type": "code",
   "execution_count": 145,
   "metadata": {},
   "outputs": [],
   "source": [
    "# # Open Excel Workbook\n",
    "# wb = xw.Book('shearwall_data.xlsx')  # Replace with your file name\n",
    "# sheet = wb.sheets['SW_info']"
   ]
  },
  {
   "cell_type": "code",
   "execution_count": 146,
   "metadata": {},
   "outputs": [],
   "source": [
    "# Extract East West direction wall data from spreadsheet"
   ]
  },
  {
   "cell_type": "code",
   "execution_count": 147,
   "metadata": {},
   "outputs": [],
   "source": [
    "# Get the last row in column P\n",
    "last_row_ew = sheet.range('P' + str(sheet.cells.last_cell.row)).end('up').row\n",
    "\n",
    "# Retrieve the number of walls from column P\n",
    "num_walls_ew = int(sheet.range(f'P{last_row_ew}').value)"
   ]
  },
  {
   "cell_type": "code",
   "execution_count": 148,
   "metadata": {},
   "outputs": [
    {
     "name": "stdout",
     "output_type": "stream",
     "text": [
      "Start Cell ID: P28\n"
     ]
    }
   ],
   "source": [
    "# Calculate the starting row ID for east-west walls\n",
    "start_row_ew = last_row_ew - num_walls_ew\n",
    "start_cell_id_ew = f'P{start_row_ew}'\n",
    "print(f\"Start Cell ID: {start_cell_id_ew}\")"
   ]
  },
  {
   "cell_type": "code",
   "execution_count": 149,
   "metadata": {},
   "outputs": [],
   "source": [
    "# Initialize lists for east-west direction walls\n",
    "walls_ew = []\n",
    "lengths_ew = []\n",
    "heights_ew = []\n",
    "x_list_ew = []\n",
    "y_list_ew = []\n",
    "\n",
    "# Run the for loop to extract data for east-west walls\n",
    "for row in range(start_row_ew + 1, start_row_ew + 1 + num_walls_ew):\n",
    "    wall_ew = {\n",
    "        'id': sheet.range(f'O{row}').value,\n",
    "        'length': sheet.range(f'Q{row}').value,\n",
    "        'height': sheet.range(f'R{row}').value,\n",
    "        'x': sheet.range(f'S{row}').value,\n",
    "        'y': sheet.range(f'T{row}').value,\n",
    "    }\n",
    "    walls_ew.append(wall_ew)\n",
    "    lengths_ew.append(wall_ew['length'])\n",
    "    heights_ew.append(wall_ew['height'])\n",
    "    x_list_ew.append(wall_ew['x'])\n",
    "    y_list_ew.append(wall_ew['y'])\n",
    "\n"
   ]
  },
  {
   "cell_type": "code",
   "execution_count": 150,
   "metadata": {},
   "outputs": [],
   "source": [
    "# Combine north-south and east-west wall data for plotting\n",
    "# (Assuming you have the north-south wall data in walls, x_list, y_list)\n",
    "walls_combined = walls + walls_ew\n",
    "x_combined = x_list + x_list_ew\n",
    "y_combined = y_list + y_list_ew\n",
    "lengths_combined = lengths + lengths_ew\n",
    "\n",
    "df_walls_combined =  pd.DataFrame(walls_combined)\n",
    "df_walls_combined\n",
    "\n",
    "sheet.range('AC28').value = df_walls_combined"
   ]
  },
  {
   "cell_type": "code",
   "execution_count": 151,
   "metadata": {},
   "outputs": [
    {
     "name": "stdout",
     "output_type": "stream",
     "text": [
      "NS Center of Mass: (27.96, 16.30)\n",
      "EW Center of Mass: (29.98, 16.01)\n"
     ]
    }
   ],
   "source": [
    "#--------------------------------------------------------------------------------------------------------------\n",
    "# Calculate Center of Mass for North-South Walls\n",
    "total_length_ns = sum(lengths)\n",
    "com_x_ns = sum(length * x for length, x in zip(lengths, x_list)) / total_length_ns\n",
    "com_y_ns = sum(length * y for length, y in zip(lengths, y_list)) / total_length_ns\n",
    "\n",
    "# Calculate Center of Mass for East-West Walls\n",
    "total_length_ew = sum(lengths_ew)\n",
    "com_x_ew = sum(length * x for length, x in zip(lengths_ew, x_list_ew)) / total_length_ew\n",
    "com_y_ew = sum(length * y for length, y in zip(lengths_ew, y_list_ew)) / total_length_ew\n",
    "\n",
    "# # Output results to Excel\n",
    "# sheet.range('J13').value = f\"NS CoM: ({com_x_ns:.2f}, {com_y_ns:.2f})\"\n",
    "# sheet.range('J14').value = f\"EW CoM: ({com_x_ew:.2f}, {com_y_ew:.2f})\"\n",
    "\n",
    "# Output results to Excel\n",
    "sheet.range('J13').value = com_x_ns  # center of mass in x direction\n",
    "sheet.range('J14').value = com_y_ew  # center of mass in y direction\n",
    "\n",
    "\n",
    "# Print results for confirmation\n",
    "print(f\"NS Center of Mass: ({com_x_ns:.2f}, {com_y_ns:.2f})\")\n",
    "print(f\"EW Center of Mass: ({com_x_ew:.2f}, {com_y_ew:.2f})\")"
   ]
  },
  {
   "cell_type": "code",
   "execution_count": 152,
   "metadata": {},
   "outputs": [
    {
     "data": {
      "image/png": "[encoded data removed]",
      "text/plain": [
       "<Figure size 1000x800 with 1 Axes>"
      ]
     },
     "metadata": {},
     "output_type": "display_data"
    }
   ],
   "source": [
    "#--------------------------------------------------------------------------------------------------------------\n",
    "\n",
    "# Visualization using matplotlib\n",
    "plt.figure(figsize=(10, 8))\n",
    "\n",
    "# Plot north-south walls\n",
    "for i, (x, y, length) in enumerate(zip(x_list, y_list, lengths)):\n",
    "    plt.plot([x, x], [y, y + length], label=f\"NS Wall {i+1}\", color='blue')\n",
    "\n",
    "# Plot east-west walls\n",
    "for i, (x, y, length) in enumerate(zip(x_list_ew, y_list_ew, lengths_ew)):\n",
    "    plt.plot([x, x + length], [y, y], label=f\"EW Wall {i+1}\", color='red')\n",
    "\n",
    "# Add the (com_x_ns, com_y_ew) coordinate with a larger dot\n",
    "plt.scatter(com_x_ns, com_y_ew, color='green', s=100, label='(CoM_x_NS, CoM_y_EW)', zorder=5)\n",
    "\n",
    "\n",
    "# Formatting the plot\n",
    "plt.xlabel('X Coordinate')\n",
    "plt.ylabel('Y Coordinate')\n",
    "plt.title('Shear Wall Layout')\n",
    "# plt.legend(loc='upper right')\n",
    "plt.grid(True)\n",
    "plt.axis('equal')\n",
    "\n",
    "\n",
    "\n",
    "# # Save the plot as an image\n",
    "# plot_image_path = 'shear_wall_layout.png'\n",
    "# plt.savefig(plot_image_path)\n",
    "\n",
    "# # Insert the image into the Excel sheet\n",
    "# sheet_presentation = wb.sheets.add('Wall Layout')\n",
    "# sheet_presentation.pictures.add(plot_image_path, left=50, top=50)  # Adjust left and top for placement\n",
    "\n",
    "# # Save the plot as an image\n",
    "# plot_image_path = 'shear_wall_layout.png'\n",
    "# plt.savefig(plot_image_path)\n",
    "\n",
    "# # Insert the image into the Excel sheet at cell O9\n",
    "# cell_location = sheet.range('O9')\n",
    "# sheet.pictures.add(plot_image_path, left=cell_location.left, top=cell_location.top)\n",
    "\n",
    "# Display the plot (optional)\n",
    "plt.show()"
   ]
  },
  {
   "cell_type": "code",
   "execution_count": 153,
   "metadata": {},
   "outputs": [
    {
     "name": "stdout",
     "output_type": "stream",
     "text": [
      "NS Center of Mass: (27.96)\n",
      "EW Center of Mass: (16.01)\n"
     ]
    }
   ],
   "source": [
    "# Calculate Center of Mass for North-South Walls\n",
    "total_length_ns = sum(lengths)\n",
    "# com_x_ns = sum(length * x for length, x in zip(lengths, x_list)) / total_length_ns\n",
    "com_y_ns = sum(length * y for length, y in zip(lengths, y_list)) / total_length_ns\n",
    "\n",
    "# Calculate Center of Mass for East-West Walls\n",
    "total_length_ew = sum(lengths_ew)\n",
    "com_x_ew = sum(length * x for length, x in zip(lengths_ew, x_list_ew)) / total_length_ew\n",
    "# com_y_ew = sum(length * y for length, y in zip(lengths_ew, y_list_ew)) / total_length_ew\n",
    "\n",
    "\n",
    "# Output results to Excel\n",
    "sheet.range('J13').value = com_x_ns\n",
    "sheet.range('J14').value = com_y_ew\n",
    "\n",
    "\n",
    "\n",
    "# Print results for confirmation\n",
    "print(f\"NS Center of Mass: ({com_x_ns:.2f})\")\n",
    "print(f\"EW Center of Mass: ({com_y_ew:.2f})\")\n"
   ]
  },
  {
   "cell_type": "code",
   "execution_count": 154,
   "metadata": {},
   "outputs": [],
   "source": [
    "# Calculate center of rigidity (CoR)"
   ]
  },
  {
   "cell_type": "code",
   "execution_count": 156,
   "metadata": {},
   "outputs": [
    {
     "name": "stdout",
     "output_type": "stream",
     "text": [
      "[0.2951050173286423, 0.543148359963283, 0.23407513241782885, 0.23407513241782885, 0.6393156669215174, 0.6428662821624958, 0.6428662821624958, 0.6428662821624958, 0.6428662821624958, 0.2882149541684716, 0.6428662821624958, 0.27109583280336425, 0.6428662821624958, 0.6428662821624958, 0.11482185195507445, 0.5502877950620696, 0.5502877950620696, 0.281348369161206, 0.10681072059586423, 0.10945706922983633]\n"
     ]
    }
   ],
   "source": [
    "rigidities = []\n",
    "for wall in walls:\n",
    "    height = wall['height']\n",
    "    length = wall['length']\n",
    "    delta = 4 * (height / length)**3 + 3 * (height / length)\n",
    "    rigidity = 1 / delta\n",
    "    rigidities.append(rigidity)\n",
    "\n",
    "\n",
    "print(rigidities)"
   ]
  },
  {
   "cell_type": "code",
   "execution_count": 157,
   "metadata": {},
   "outputs": [],
   "source": [
    "total_rigidity_x = 0\n",
    "total_rigidity_y = 0\n",
    "weighted_x = 0\n",
    "weighted_y = 0\n",
    "\n",
    "for wall, rigidity in zip(walls, rigidities):\n",
    "    if rigidity > 0:  # Ensure non-zero rigidity\n",
    "        weighted_x += rigidity * wall['x']\n",
    "        weighted_y += rigidity * wall['y']\n",
    "        total_rigidity_x += rigidity if wall['x'] != 0 else 0\n",
    "        total_rigidity_y += rigidity if wall['y'] != 0 else 0\n",
    "\n",
    "CoR_x = weighted_x / total_rigidity_y if total_rigidity_y != 0 else 0\n",
    "CoR_y = weighted_y / total_rigidity_x if total_rigidity_x != 0 else 0"
   ]
  },
  {
   "cell_type": "code",
   "execution_count": 158,
   "metadata": {},
   "outputs": [
    {
     "data": {
      "text/plain": [
       "27.705963281034773"
      ]
     },
     "execution_count": 158,
     "metadata": {},
     "output_type": "execute_result"
    }
   ],
   "source": [
    "CoR_x"
   ]
  },
  {
   "cell_type": "code",
   "execution_count": 159,
   "metadata": {},
   "outputs": [
    {
     "data": {
      "text/plain": [
       "16.688924814193847"
      ]
     },
     "execution_count": 159,
     "metadata": {},
     "output_type": "execute_result"
    }
   ],
   "source": [
    "CoR_y"
   ]
  },
  {
   "cell_type": "code",
   "execution_count": null,
   "metadata": {},
   "outputs": [],
   "source": []
  }
 ],
 "metadata": {
  "kernelspec": {
   "display_name": "Python 3 (pfse)",
   "language": "python",
   "name": "pfse"
  },
  "language_info": {
   "codemirror_mode": {
    "name": "ipython",
    "version": 3
   },
   "file_extension": ".py",
   "mimetype": "text/x-python",
   "name": "python",
   "nbconvert_exporter": "python",
   "pygments_lexer": "ipython3",
   "version": "3.12.8"
  }
 },
 "nbformat": 4,
 "nbformat_minor": 4
}
