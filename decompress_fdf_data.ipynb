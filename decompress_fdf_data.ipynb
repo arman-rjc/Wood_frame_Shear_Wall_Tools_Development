{
 "cells": [
  {
   "cell_type": "code",
   "execution_count": 9,
   "id": "d34e7658-52db-42fb-a616-b049d6e6cbf9",
   "metadata": {},
   "outputs": [
    {
     "name": "stdout",
     "output_type": "stream",
     "text": [
      "Current working directory: H:\\_Personal\\01_Projects\\pycode\\Wood_frame_Shear_Wall_Tools_Development\n"
     ]
    }
   ],
   "source": [
    "import os\n",
    "print(f\"Current working directory: {os.getcwd()}\")\n"
   ]
  },
  {
   "cell_type": "code",
   "execution_count": 10,
   "id": "ac7c6044-bbd6-47d1-93f0-2ae1719ab890",
   "metadata": {},
   "outputs": [
    {
     "name": "stdout",
     "output_type": "stream",
     "text": [
      "File exists: H:\\_Personal\\01_Projects\\pycode\\Wood_frame_Shear_Wall_Tools_Development\\floor_data_r8.fdf\n"
     ]
    }
   ],
   "source": [
    "import os\n",
    "\n",
    "input_file = 'H:\\\\_Personal\\\\01_Projects\\\\pycode\\\\Wood_frame_Shear_Wall_Tools_Development\\\\floor_data_r8.fdf'  # Replace with your file's actual path\n",
    "if os.path.exists(input_file):\n",
    "    print(f\"File exists: {input_file}\")\n",
    "else:\n",
    "    print(f\"File not found: {input_file}\")\n"
   ]
  },
  {
   "cell_type": "code",
   "execution_count": 11,
   "id": "5712e23c-3d24-4d5b-9c9f-2c03d9a00a02",
   "metadata": {},
   "outputs": [],
   "source": [
    "import zlib\n",
    "# import pathlib\n",
    "\n",
    "# def decompress_fdf(input_file: str, output_file: str):\n",
    "#     \"\"\"\n",
    "#     Decompresses the 'stream' data in an FDF file and saves it to a new file.\n",
    "    \n",
    "#     Parameters:\n",
    "#     - input_file: Path to the input FDF file.\n",
    "#     - output_file: Path to save the decompressed FDF file.\n",
    "#     \"\"\"\n",
    "#     with open(input_file, 'rb') as f:\n",
    "#         fdf_data = f.read()\n",
    "\n",
    "#     # Locate and decompress all compressed 'stream' sections\n",
    "#     decompressed_data = b''\n",
    "#     start_idx = 0\n",
    "#     while start_idx < len(fdf_data):\n",
    "#         # Find the start of the stream\n",
    "#         stream_start = fdf_data.find(b'stream\\n', start_idx)\n",
    "#         if stream_start == -1:\n",
    "#             # No more streams found; append remaining data\n",
    "#             decompressed_data += fdf_data[start_idx:]\n",
    "#             break\n",
    "\n",
    "#         # Find the end of the stream\n",
    "#         stream_end = fdf_data.find(b'endstream', stream_start)\n",
    "#         if stream_end == -1:\n",
    "#             raise ValueError(\"Malformed FDF: 'endstream' not found for a 'stream'.\")\n",
    "\n",
    "#         # Append data before the stream\n",
    "#         decompressed_data += fdf_data[start_idx:stream_start + len('stream\\n')]\n",
    "\n",
    "#         # Extract the compressed data\n",
    "#         compressed_data = fdf_data[stream_start + len('stream\\n'):stream_end]\n",
    "\n",
    "#         # Decompress and append the decompressed data\n",
    "#         try:\n",
    "#             decompressed_content = zlib.decompress(compressed_data)\n",
    "#             decompressed_data += decompressed_content\n",
    "#         except zlib.error:\n",
    "#             # If decompression fails, keep the original content\n",
    "#             decompressed_data += compressed_data\n",
    "\n",
    "#         # Append the 'endstream' marker\n",
    "#         decompressed_data += b'\\nendstream'\n",
    "#         start_idx = stream_end + len('endstream')\n",
    "\n",
    "#     # Write the decompressed data to the output file\n",
    "#     with open(output_file, 'wb') as f:\n",
    "#         f.write(decompressed_data)\n",
    "\n",
    "\n",
    "\n",
    "# # project_dir = pathlib.Path.cwd() \n",
    "\n",
    "# # input_file = [\n",
    "# #     project_dir/\"floor_data_r8.fdf\"\n",
    "# # ]\n",
    "\n",
    "# # output_file = [\n",
    "# #     project_dir/\"decompressed_floor_data_r8.fdf\"\n",
    "# # ]\n",
    "\n",
    "# # Input and output files\n",
    "# input_file = 'H:\\\\_Personal\\\\01_Projects\\\\pycode\\\\Wood_frame_Shear_Wall_Tools_Development\\\\floor_data_r8.fdf'  # Uploaded file\n",
    "# output_file = 'H:\\\\_Personal\\\\01_Projects\\\\pycode\\\\Wood_frame_Shear_Wall_Tools_Development\\\\decompressed_floor_data_r8.fdf'\n",
    "\n",
    "# # Decompress the FDF\n",
    "# decompress_fdf(input_file, output_file)\n",
    "\n",
    "# print(f\"Decompressed FDF saved to: {output_file}\")"
   ]
  },
  {
   "cell_type": "code",
   "execution_count": 12,
   "id": "d11ef6a9-e438-485a-a0da-b7b4d2ed467b",
   "metadata": {},
   "outputs": [
    {
     "name": "stdout",
     "output_type": "stream",
     "text": [
      "Decompressed FDF saved to: H:\\_Personal\\01_Projects\\pycode\\Wood_frame_Shear_Wall_Tools_Development\\decompressed_floor_data_r8.fdf\n"
     ]
    }
   ],
   "source": [
    "def decompress_fdf(input_file: str, output_file: str):\n",
    "    \"\"\"\n",
    "    Decompresses the 'stream' data in an FDF file and saves it to a new file.\n",
    "    \n",
    "    Parameters:\n",
    "    - input_file: Path to the input FDF file.\n",
    "    - output_file: Path to save the decompressed FDF file.\n",
    "    \"\"\"\n",
    "    with open(input_file, 'rb') as f:\n",
    "        fdf_data = f.read()\n",
    "\n",
    "    # Locate and process all 'stream' sections\n",
    "    decompressed_data = b''\n",
    "    start_idx = 0\n",
    "    while start_idx < len(fdf_data):\n",
    "        stream_start = fdf_data.find(b'stream\\n', start_idx)\n",
    "        if stream_start == -1:\n",
    "            decompressed_data += fdf_data[start_idx:]\n",
    "            break\n",
    "\n",
    "        stream_end = fdf_data.find(b'endstream', stream_start)\n",
    "        if stream_end == -1:\n",
    "            raise ValueError(\"Malformed FDF: 'endstream' not found for a 'stream'.\")\n",
    "\n",
    "        # Add everything up to the stream\n",
    "        decompressed_data += fdf_data[start_idx:stream_start + len('stream\\n')]\n",
    "\n",
    "        # Process the stream data\n",
    "        compressed_data = fdf_data[stream_start + len('stream\\n'):stream_end]\n",
    "        try:\n",
    "            decompressed_content = zlib.decompress(compressed_data).decode('utf-8')\n",
    "        except zlib.error:\n",
    "            # If decompression fails, assume the stream is not compressed\n",
    "            decompressed_content = compressed_data.decode('utf-8')\n",
    "\n",
    "        decompressed_data += decompressed_content.encode('utf-8')  # Add the decompressed content\n",
    "        decompressed_data += b'\\nendstream'\n",
    "        start_idx = stream_end + len('endstream')\n",
    "\n",
    "    # Save the processed data\n",
    "    with open(output_file, 'wb') as f:\n",
    "        f.write(decompressed_data)\n",
    "\n",
    "# # Input and output file paths\n",
    "# input_file = '/mnt/data/floor_data_r8.fdf'\n",
    "# output_file = '/mnt/data/decompressed_floor_data_r8.fdf'\n",
    "\n",
    "# Input and output files\n",
    "input_file = 'H:\\\\_Personal\\\\01_Projects\\\\pycode\\\\Wood_frame_Shear_Wall_Tools_Development\\\\floor_data_r8.fdf'  # Uploaded file\n",
    "output_file = 'H:\\\\_Personal\\\\01_Projects\\\\pycode\\\\Wood_frame_Shear_Wall_Tools_Development\\\\decompressed_floor_data_r8.fdf'\n",
    "\n",
    "# Decompress the FDF\n",
    "decompress_fdf(input_file, output_file)\n",
    "\n",
    "\n",
    "print(f\"Decompressed FDF saved to: {output_file}\")"
   ]
  },
  {
   "cell_type": "code",
   "execution_count": 13,
   "id": "e9b1df40-761a-4234-b653-b7c9cd79b120",
   "metadata": {},
   "outputs": [
    {
     "name": "stdout",
     "output_type": "stream",
     "text": [
      "%FDF-1.2\n",
      "%âãÏÓ\n",
      "1 0 obj<</Version 1.5/FDF<</F(floor_data.pdf)/ID[<fae0d9636a77a7b4e5941363db2957ca><724673a68ced9a589b59db33c2a1e89d>]/Annots[2 0 R 4 0 R 6 0 R 8 0 R 10 0 R 12 0 R 14 0 R 16 0 R 18 0 R 20 0 R 22 0 R 24 0 R 26 0 R 28 0 R 30 0 R 32 0 R 34 0 R 36 0 R 38 0 R 40 0 R 42 0 R 44 0 R 46 0 R 48 0 R 50 0 R 52 0 R]>>>>\n",
      "endobj\n",
      "2 0 obj<</Subj(Line)/Type/Annot/F 4/C[0 0 1]/CreationDate(D:20250114150937-08'00')/T(AChowdhury)/Subtype/Line/BSIColumnData[(False)]/BS<</W 2/S/S/Type/Border>>/LES[1 1]/\n"
     ]
    }
   ],
   "source": [
    "with open('H:\\\\_Personal\\\\01_Projects\\\\pycode\\\\Wood_frame_Shear_Wall_Tools_Development\\\\decompressed_floor_data_r8.fdf', 'r') as f:\n",
    "    fdf_data = f.read()\n",
    "\n",
    "print(fdf_data[:500])  # Check if the content looks readable\n"
   ]
  },
  {
   "cell_type": "code",
   "execution_count": null,
   "id": "0a0c8185-b8f1-4466-8992-b2bfb534b4c6",
   "metadata": {},
   "outputs": [],
   "source": []
  }
 ],
 "metadata": {
  "kernelspec": {
   "display_name": "Python 3 (ipykernel)",
   "language": "python",
   "name": "python3"
  },
  "language_info": {
   "codemirror_mode": {
    "name": "ipython",
    "version": 3
   },
   "file_extension": ".py",
   "mimetype": "text/x-python",
   "name": "python",
   "nbconvert_exporter": "python",
   "pygments_lexer": "ipython3",
   "version": "3.9.12"
  }
 },
 "nbformat": 4,
 "nbformat_minor": 5
}
