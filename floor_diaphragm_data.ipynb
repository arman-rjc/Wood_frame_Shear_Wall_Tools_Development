{
 "cells": [
  {
   "cell_type": "markdown",
   "id": "3ff0f610-333d-4ee2-80a3-84815c59678c",
   "metadata": {},
   "source": [
    "# Practice extracting data from pdf"
   ]
  },
  {
   "cell_type": "code",
   "execution_count": 416,
   "id": "652e35b2-c689-438a-adf3-083f3397d5ea",
   "metadata": {},
   "outputs": [],
   "source": [
    "import xlwings as xw\n",
    "import pandas as pd\n",
    "import matplotlib.pyplot as plt\n",
    "\n",
    "\n",
    "from __future__ import annotations\n",
    "from dataclasses import dataclass\n",
    "import json\n",
    "from typing import Any, Union, Optional\n",
    "from papermodels.paper import annotations, fdf, plot\n",
    "from papermodels.db.data_model import Annotation\n",
    "from shapely.geometry import GeometryCollection, Polygon, Point\n",
    "from shapely.ops import voronoi_diagram\n",
    "import numpy as np\n",
    "import pathlib\n",
    "import matplotlib.pyplot as plt\n",
    "import pandas as pd\n",
    "from shapely.geometry import Polygon\n",
    "from shapely import wkt, voronoi_polygons\n",
    "\n",
    "from papermodels.paper.annotations import scale_annotations, filter_annotations, annotations_to_shapely\n",
    "\n",
    "from shapely.geometry import MultiPolygon"
   ]
  },
  {
   "cell_type": "code",
   "execution_count": 417,
   "id": "0486767f-1556-4a86-a816-808c4fee2307",
   "metadata": {},
   "outputs": [],
   "source": [
    "def load_annotations(file_list: list[str], scale_factor: Optional[float] = None, labels: Optional[list[str]] = None) -> dict[str, list[Annotation]]:\n",
    "    \n",
    "    \"\"\"\n",
    "    Returns a dict whose keys are each file name in 'file_list' and values are a list\n",
    "    of annotations found in the files. If 'scale_factor' is specified, the resulting\n",
    "    annotation geometries are scaled by 'scale_factor'.\n",
    "    'labels' - Labels to be used as dict keys for each file in 'file_list'\n",
    "    \n",
    "    \"\"\"\n",
    "    annot_data = {}\n",
    "    for idx, file_name in enumerate(file_list):\n",
    "        annots = fdf.read_annotations(file_name)\n",
    "        if scale_factor is not None:\n",
    "            annots = annotations.scale_annotations(annots, scale=scale_factor)\n",
    "        if labels is not None:\n",
    "            if len(labels) != len(file_list):\n",
    "                raise ValueError(f\"Length of labels must match length file list. {len(file_list)=}, {len(labels)=}\")\n",
    "            annot_data.update({labels[idx]: annots})\n",
    "    return annot_data\n",
    "\n",
    "def calculate_center_of_mass(lengths, coords):\n",
    "    \"\"\"Calculates the center of mass for a set of walls.\"\"\"\n",
    "    total_length = sum(lengths)\n",
    "    com = sum(length * coord for length, coord in zip(lengths, coords)) / total_length\n",
    "    return com\n",
    "\n",
    "def calculate_normalized_lengths(lengths):\n",
    "    \"\"\"Calculates normalized lengths.\"\"\"\n",
    "    total_length = sum(lengths)\n",
    "    return [length / total_length for length in lengths]\n",
    "\n",
    "def calculate_m_torsion(lengths, longest_dimension):\n",
    "    \"\"\"Calculates torsion values for walls.\"\"\"\n",
    "    return [0.1 * longest_dimension for _ in lengths]\n",
    "\n",
    "def calculate_rigidity(lengths, coords, com):\n",
    "    \"\"\"Calculates rigidity-related values for walls.\"\"\"\n",
    "    d_list = [abs(com - coord) for coord in coords]\n",
    "    kdx_list = [length * d**2 for length, d in zip(lengths, d_list)]\n",
    "    Jp = sum(kdx_list)\n",
    "    return d_list, Jp\n",
    "\n",
    "def calculate_v_total(normalized_lengths, torsion_list, k_list, Jp):\n",
    "    \"\"\"Calculates the total shear distribution for walls.\"\"\"\n",
    "    return [\n",
    "        norm_length + (tor * k) / Jp\n",
    "        for norm_length, tor, k in zip(normalized_lengths, torsion_list, k_list)\n",
    "    ]\n",
    "\n",
    "def plot_shear_wall_layout(ax, x_list, y_list, lengths, color, label_prefix):\n",
    "    \"\"\"Plots shear walls in a given direction.\"\"\"\n",
    "    for i, (x, y, length) in enumerate(zip(x_list, y_list, lengths)):\n",
    "        if color == 'blue':  # Vertical (north-south)\n",
    "            ax.plot([x, x], [y, y + length], label=f\"{label_prefix} Wall {i+1}\", color=color)\n",
    "        else:  # Horizontal (east-west)\n",
    "            ax.plot([x, x + length], [y, y], label=f\"{label_prefix} Wall {i+1}\", color=color)\n",
    "\n",
    "\n",
    "def calculate_center_of_mass_with_floor(weights, centers, floor_weight, floor_center):\n",
    "    \"\"\"\n",
    "    Calculates the center of mass including wall weights and floor diaphragm weight.\n",
    "    \n",
    "    Parameters:\n",
    "    - weights: List of wall weights.\n",
    "    - centers: List of wall center coordinates (X or Y).\n",
    "    - floor_weight: Total weight of the floor diaphragm.\n",
    "    - floor_center: Coordinate of the floor diaphragm center (X or Y).\n",
    "    \n",
    "    Returns:\n",
    "    - Combined center of mass (X or Y coordinate) including the floor diaphragm.\n",
    "    \"\"\"\n",
    "    # Total weight (walls + floor)\n",
    "    total_wall_weight = sum(weights)\n",
    "    total_weight = total_wall_weight + floor_weight\n",
    "    \n",
    "    # Center of mass for walls\n",
    "    wall_com = sum(weight * center for weight, center in zip(weights, centers)) / total_wall_weight\n",
    "    \n",
    "    # Combined center of mass (walls + floor)\n",
    "    combined_com = (total_wall_weight * wall_com + floor_weight * floor_center) / total_weight\n",
    "    return combined_com\n",
    "\n",
    "\n",
    "def calculate_wall_weights(lengths, heights, weight_per_unit_area=0.48):\n",
    "    \"\"\"\n",
    "    Calculates the weight of walls based on their length, height, and weight per unit area.\n",
    "    \n",
    "    Parameters:\n",
    "    - lengths: List of wall lengths.\n",
    "    - heights: List of wall heights.\n",
    "    - weight_per_unit_area: Weight per unit area (default is 0.48 kPa).\n",
    "    \n",
    "    Returns:\n",
    "    - List of wall weights.\n",
    "    \"\"\"\n",
    "    wall_weights = []\n",
    "    for length, height in zip(lengths, heights):\n",
    "        area = length * height  # Area of the wall\n",
    "        weight = area * weight_per_unit_area  # Weight of the wall\n",
    "        wall_weights.append(weight)\n",
    "    return wall_weights\n",
    "\n",
    "\n",
    "def calculate_center_of_rigidity_simple(lengths, heights, coords):\n",
    "    \"\"\"\n",
    "    Calculates the center of rigidity assuming stiffness is proportional to length × height.\n",
    "    \n",
    "    Parameters:\n",
    "    - lengths: List of wall lengths.\n",
    "    - heights: List of wall heights.\n",
    "    - coords: List of coordinates (X or Y).\n",
    "    \n",
    "    Returns:\n",
    "    - Center of rigidity (X or Y coordinate).\n",
    "    \"\"\"\n",
    "    stiffnesses = [length * height for length, height in zip(lengths, heights)]\n",
    "    total_stiffness = sum(stiffnesses)\n",
    "    rigidity_center = sum(stiffness * coord for stiffness, coord in zip(stiffnesses, coords)) / total_stiffness\n",
    "    return rigidity_center\n",
    "\n",
    "def calculate_wall_centers(start_coords, lengths, axis='y'):\n",
    "    \"\"\"\n",
    "    Calculates the center coordinates for walls.\n",
    "    \n",
    "    Parameters:\n",
    "    - start_coords: List of starting coordinates (X or Y).\n",
    "    - lengths: List of wall lengths.\n",
    "    - axis: 'x' or 'y', indicating which axis the wall centers are calculated for.\n",
    "    \n",
    "    Returns:\n",
    "    - List of center coordinates.\n",
    "    \"\"\"\n",
    "    centers = [start + (length / 2) for start, length in zip(start_coords, lengths)]\n",
    "    return centers\n",
    "\n",
    "def calculate_center_of_rigidity_relative(lengths, heights, centers):\n",
    "    \"\"\"\n",
    "    Calculates the center of rigidity using relative rigidity approach.\n",
    "    \n",
    "    Parameters:\n",
    "    - lengths: List of wall lengths.\n",
    "    - heights: List of wall heights.\n",
    "    - centers: List of center coordinates (X or Y).\n",
    "    \n",
    "    Returns:\n",
    "    - Center of rigidity (X or Y coordinate).\n",
    "    \"\"\"\n",
    "    relative_stiffnesses = [length * height for length, height in zip(lengths, heights)]\n",
    "    total_stiffness = sum(relative_stiffnesses)\n",
    "    rigidity_center = sum(stiffness * center for stiffness, center in zip(relative_stiffnesses, centers)) / total_stiffness\n",
    "    return rigidity_center\n",
    "\n",
    "\n",
    "project_dir = pathlib.Path.cwd() \n",
    "\n",
    "files = [\n",
    "    project_dir/\"floor_data_r1.fdf\"\n",
    "]\n"
   ]
  },
  {
   "cell_type": "code",
   "execution_count": 418,
   "id": "d13044a1-8675-409b-9c82-3f3b756161fc",
   "metadata": {},
   "outputs": [
    {
     "data": {
      "text/plain": [
       "[WindowsPath('H:/_Personal/01_Projects/pycode/Wood_frame_Shear_Wall_Tools_Development/floor_data_r1.fdf')]"
      ]
     },
     "execution_count": 418,
     "metadata": {},
     "output_type": "execute_result"
    }
   ],
   "source": [
    "files"
   ]
  },
  {
   "cell_type": "code",
   "execution_count": 419,
   "id": "e731ede8-48e0-44b4-892f-a6daa1b0f49b",
   "metadata": {},
   "outputs": [
    {
     "data": {
      "text/plain": [
       "0.1111111111111111"
      ]
     },
     "execution_count": 419,
     "metadata": {},
     "output_type": "execute_result"
    }
   ],
   "source": [
    "## -----------------------------------------------------------------------------------\n",
    "# Understand the scaling factor from inchs to m\n",
    "## -----------------------------------------------------------------------------------\n",
    "scaling_factor = (1/72)*(1/(1/8))\n",
    "scaling_factor\n"
   ]
  },
  {
   "cell_type": "code",
   "execution_count": 420,
   "id": "358e3eaa-f9d6-454b-bf5e-e956945fbabb",
   "metadata": {},
   "outputs": [
    {
     "data": {
      "text/plain": [
       "{'diaphragm': [Annotation(object_type='Rectangle', vertices=[34.957788888888885, 109.19778888888888, 34.957788888888885, 172.29099999999997, 193.3311111111111, 172.29099999999997, 193.3311111111111, 109.19778888888888], page='0', text=None, line_color=(0, 0, 0), line_weight=None, fill_color=(1, 1, 1), line_type=None, line_opacity=None, fill_opacity=None, matrix=[1.0, 0.0, 0.0, 1.0, -314.6201, -982.78]),\n",
       "  Annotation(object_type='Rectangle', vertices=[34.957788888888885, 109.19778888888888, 34.957788888888885, 172.29099999999997, 193.3311111111111, 172.29099999999997, 193.3311111111111, 109.19778888888888], page='0', text=None, line_color=(1.0, 0.0, 0.0), line_weight=1.0, fill_color=(1, 1, 1), line_type=None, line_opacity=None, fill_opacity=None, matrix=[1.0, 0.0, 0.0, 1.0, 0.0, 0.0]),\n",
       "  Annotation(object_type='Line', vertices=[35.43988888888889, 140.05333333333334, 35.43988888888889, 109.25323333333333], page='0', text=None, line_color=(0.0, 0.0, 1.0), line_weight=2.0, fill_color=(1, 1, 1), line_type=None, line_opacity=None, fill_opacity=None, matrix=[1.0, 0.0, 0.0, 1.0, -312.459, -976.7791]),\n",
       "  Annotation(object_type='Line', vertices=[193.38666666666666, 172.34655555555554, 193.38666666666666, 141.54644444444443], page='0', text=None, line_color=(0.0, 0.0, 1.0), line_weight=2.0, fill_color=(1, 1, 1), line_type=None, line_opacity=None, fill_opacity=None, matrix=[1.0, 0.0, 0.0, 1.0, -1733.98, -1267.418]),\n",
       "  Annotation(object_type='Line', vertices=[35.2, 171.7332222222222, 90.0799, 171.7332222222222], page='0', text=None, line_color=(0.0, 1.0, 0.0), line_weight=3.0, fill_color=(1, 1, 1), line_type=None, line_opacity=None, fill_opacity=None, matrix=[1.0, 0.0, 0.0, 1.0, -309.3, -1538.099]),\n",
       "  Annotation(object_type='Line', vertices=[138.31655555555554, 109.47319999999999, 193.19644444444444, 109.47319999999999], page='0', text=None, line_color=(0.0, 1.0, 0.0), line_weight=3.0, fill_color=(1, 1, 1), line_type=None, line_opacity=None, fill_opacity=None, matrix=[1.0, 0.0, 0.0, 1.0, -1237.349, -977.7588])]}"
      ]
     },
     "execution_count": 420,
     "metadata": {},
     "output_type": "execute_result"
    }
   ],
   "source": [
    "annots_by_diaphragm = load_annotations(file_list = files, scale_factor= scaling_factor, labels=['diaphragm'])\n",
    "annots_by_diaphragm"
   ]
  },
  {
   "cell_type": "markdown",
   "id": "04b90cc8-74f2-4692-b7c2-5bbff66e03a6",
   "metadata": {},
   "source": [
    "# Floor diaphragm data"
   ]
  },
  {
   "cell_type": "code",
   "execution_count": 421,
   "id": "a5ddc354-4ce0-4f26-bd35-54d9a5140c6c",
   "metadata": {},
   "outputs": [
    {
     "data": {
      "text/plain": [
       "[Annotation(object_type='Rectangle', vertices=[34.957788888888885, 109.19778888888888, 34.957788888888885, 172.29099999999997, 193.3311111111111, 172.29099999999997, 193.3311111111111, 109.19778888888888], page='0', text=None, line_color=(1.0, 0.0, 0.0), line_weight=1.0, fill_color=(1, 1, 1), line_type=None, line_opacity=None, fill_opacity=None, matrix=[1.0, 0.0, 0.0, 1.0, 0.0, 0.0])]"
      ]
     },
     "execution_count": 421,
     "metadata": {},
     "output_type": "execute_result"
    },
    {
     "data": {
      "image/png": "[encoded data removed]",
      "text/plain": [
       "<Figure size 800x800 with 1 Axes>"
      ]
     },
     "metadata": {},
     "output_type": "display_data"
    }
   ],
   "source": [
    "floor_properties={'line_weight': 1.0}\n",
    "for label, annots in annots_by_diaphragm.items():\n",
    "    # panel_area_annots = annotations.filter_annotations(annots, panel_area_properties)\n",
    "    floor_annots = annotations.filter_annotations(annots, floor_properties)\n",
    "\n",
    "floor_annots\n",
    "plot.plot_annotations(floor_annots, size=4, dpi=200)\n",
    "\n",
    "\n",
    "floor_annots"
   ]
  },
  {
   "cell_type": "markdown",
   "id": "4fd78553-3724-4fa5-aa1e-65efe8e8a75e",
   "metadata": {},
   "source": [
    "# Floor centroid calculation"
   ]
  },
  {
   "cell_type": "code",
   "execution_count": 422,
   "id": "cf71da63-4a40-4571-8669-a58404c2df31",
   "metadata": {},
   "outputs": [
    {
     "name": "stdout",
     "output_type": "stream",
     "text": [
      "Floor Centroid: (114.14, 140.74)\n"
     ]
    }
   ],
   "source": [
    "from shapely.geometry import MultiPolygon\n",
    "\n",
    "# Filter annotations for floor geometry\n",
    "floor_properties = {'line_weight': 1.0}\n",
    "for label, annots in annots_by_diaphragm.items():\n",
    "    floor_annots = annotations.filter_annotations(annots, floor_properties)\n",
    "\n",
    "# Convert the floor annotations to Shapely geometry\n",
    "floor_shapes = annotations.annotations_to_shapely(floor_annots)\n",
    "\n",
    "# Combine the floor shapes into a MultiPolygon\n",
    "floor_geometry = MultiPolygon(floor_shapes)\n",
    "\n",
    "# Calculate the centroid of the floor\n",
    "floor_centroid_x = floor_geometry.centroid.x\n",
    "floor_centroid_y = floor_geometry.centroid.y\n",
    "\n",
    "# Output the centroid\n",
    "print(f\"Floor Centroid: ({floor_centroid_x:.2f}, {floor_centroid_y:.2f})\")\n"
   ]
  },
  {
   "cell_type": "markdown",
   "id": "02e405e5-5732-4fa5-b5e8-931d89c0066e",
   "metadata": {},
   "source": [
    "# North South direction wall data"
   ]
  },
  {
   "cell_type": "code",
   "execution_count": 423,
   "id": "786c7cf5-937e-4dc1-8186-79c9f538b6aa",
   "metadata": {},
   "outputs": [
    {
     "data": {
      "text/plain": [
       "[Annotation(object_type='Line', vertices=[35.43988888888889, 140.05333333333334, 35.43988888888889, 109.25323333333333], page='0', text=None, line_color=(0.0, 0.0, 1.0), line_weight=2.0, fill_color=(1, 1, 1), line_type=None, line_opacity=None, fill_opacity=None, matrix=[1.0, 0.0, 0.0, 1.0, -312.459, -976.7791]),\n",
       " Annotation(object_type='Line', vertices=[193.38666666666666, 172.34655555555554, 193.38666666666666, 141.54644444444443], page='0', text=None, line_color=(0.0, 0.0, 1.0), line_weight=2.0, fill_color=(1, 1, 1), line_type=None, line_opacity=None, fill_opacity=None, matrix=[1.0, 0.0, 0.0, 1.0, -1733.98, -1267.418])]"
      ]
     },
     "execution_count": 423,
     "metadata": {},
     "output_type": "execute_result"
    },
    {
     "data": {
      "image/png": "[encoded data removed]",
      "text/plain": [
       "<Figure size 800x800 with 1 Axes>"
      ]
     },
     "metadata": {},
     "output_type": "display_data"
    }
   ],
   "source": [
    "ns_sw_properties={'line_weight': 2.0}\n",
    "for label, annots in annots_by_diaphragm.items():\n",
    "    # panel_area_annots = annotations.filter_annotations(annots, panel_area_properties)\n",
    "    ns_sw_annots = annotations.filter_annotations(annots, ns_sw_properties)\n",
    "\n",
    "ns_sw_annots\n",
    "plot.plot_annotations(ns_sw_annots, size=4, dpi=200)\n",
    "\n",
    "\n",
    "ns_sw_annots"
   ]
  },
  {
   "cell_type": "code",
   "execution_count": 424,
   "id": "e46e32d2-4a66-41e2-b51c-bba59a641acb",
   "metadata": {},
   "outputs": [],
   "source": [
    "## -----------------------------------------------------------------------------------\n",
    "# Change the origin of the diaphragm\n",
    "## -----------------------------------------------------------------------------------\n",
    "# scale_diaphragm = scale_annotations(annots = opening_area_annots, scale = 1 , paper_origin = (8.5*scaling_factor,34.5*scaling_factor))\n",
    "# scale_diaphragm = scale_annotations(annots = opening_area_annots, scale = 1 , paper_origin = (8.5,34.5))\n",
    "scale_diaphragm = scale_annotations(annots = ns_sw_annots, scale = 1 , paper_origin = (0,0))\n",
    "# plot.plot_annotations(scale_diaphragm, size=6, dpi=200)"
   ]
  },
  {
   "cell_type": "code",
   "execution_count": 425,
   "id": "8ed270cc-63c8-4636-b16e-d8fcb572c2a2",
   "metadata": {},
   "outputs": [
    {
     "data": {
      "text/plain": [
       "(<Figure size 800x800 with 1 Axes>, <AxesSubplot: >)"
      ]
     },
     "execution_count": 425,
     "metadata": {},
     "output_type": "execute_result"
    },
    {
     "data": {
      "image/png": "[encoded data removed]",
      "text/plain": [
       "<Figure size 800x800 with 1 Axes>"
      ]
     },
     "metadata": {},
     "output_type": "display_data"
    }
   ],
   "source": [
    "ew_sw_properties={'line_weight': 3.0}\n",
    "for label, annots in annots_by_diaphragm.items():\n",
    "    # panel_area_annots = annotations.filter_annotations(annots, panel_area_properties)\n",
    "    ew_sw_annots = annotations.filter_annotations(annots, ew_sw_properties)\n",
    "\n",
    "ew_sw_annots\n",
    "plot.plot_annotations(ew_sw_annots, size=4, dpi=200)"
   ]
  },
  {
   "cell_type": "code",
   "execution_count": 426,
   "id": "5dfcd209-b218-49e5-be6e-b04f2d772e26",
   "metadata": {},
   "outputs": [
    {
     "data": {
      "text/plain": [
       "(<Figure size 800x800 with 1 Axes>, <AxesSubplot: >)"
      ]
     },
     "execution_count": 426,
     "metadata": {},
     "output_type": "execute_result"
    },
    {
     "data": {
      "image/png": "[encoded data removed]",
      "text/plain": [
       "<Figure size 800x800 with 1 Axes>"
      ]
     },
     "metadata": {},
     "output_type": "display_data"
    }
   ],
   "source": [
    "plot.plot_annotations(annots_by_diaphragm['diaphragm'], size=4, dpi=200)"
   ]
  },
  {
   "cell_type": "code",
   "execution_count": 427,
   "id": "4a3cc576-7237-451d-a85f-3a9bbf7b36a5",
   "metadata": {},
   "outputs": [
    {
     "name": "stdout",
     "output_type": "stream",
     "text": [
      "Initial X-Coordinates: [35.43988888888889, 193.38666666666666]\n",
      "Initial Y-Coordinates (Bottom): [109.25323333333333, 141.54644444444443]\n",
      "Lengths: [30.800100000000015, 30.800111111111107]\n"
     ]
    }
   ],
   "source": [
    "# # Initialize empty lists to store x-coordinates, y-coordinates, and lengths\n",
    "# x_coords = []\n",
    "# y_coords = []\n",
    "# lengths_ns = []\n",
    "\n",
    "# # Loop through each annotation in the north-south wall annotations\n",
    "# for annot in ns_sw_annots:\n",
    "#     # Extract vertices from the annotation\n",
    "#     vertices = annot.vertices\n",
    "    \n",
    "#     # Initial x and y are the first pair in the vertices\n",
    "#     x_initial = vertices[0]\n",
    "#     y_initial = vertices[1]\n",
    "    \n",
    "#     # Final x and y are the second pair in the vertices\n",
    "#     x_final = vertices[2]\n",
    "#     y_final = vertices[3]\n",
    "    \n",
    "#     # Calculate the length of the wall (distance between two points)\n",
    "#     length = abs(y_final - y_initial)  # For north-south walls, x stays constant\n",
    "    \n",
    "#     # Append the extracted values to the respective lists\n",
    "#     x_coords.append(x_initial)\n",
    "#     y_coords.append(y_initial)\n",
    "#     lengths_ns.append(length)\n",
    "\n",
    "# # Output the extracted lists\n",
    "# print(\"Initial X-Coordinates:\", x_coords)\n",
    "# print(\"Initial Y-Coordinates:\", y_coords)\n",
    "# print(\"Lengths:\", lengths_ns)\n",
    "\n",
    "\n",
    "# Initialize empty lists to store x-coordinates, y-coordinates, and lengths\n",
    "x_coords = []\n",
    "y_coords = []\n",
    "lengths_ns = []\n",
    "\n",
    "# Loop through each annotation in the north-south wall annotations\n",
    "for annot in ns_sw_annots:\n",
    "    # Extract vertices from the annotation\n",
    "    vertices = annot.vertices\n",
    "    \n",
    "    # Extract coordinates for the two endpoints of the wall\n",
    "    x1, y1 = vertices[0], vertices[1]  # First endpoint\n",
    "    x2, y2 = vertices[2], vertices[3]  # Second endpoint\n",
    "    \n",
    "    # Determine the bottom (initial) and top (final) coordinates\n",
    "    if y1 < y2:  # If y1 is smaller, it's the bottom\n",
    "        x_initial, y_initial = x1, y1\n",
    "        x_final, y_final = x2, y2\n",
    "    else:  # Otherwise, y2 is the bottom\n",
    "        x_initial, y_initial = x2, y2\n",
    "        x_final, y_final = x1, y1\n",
    "    \n",
    "    # Calculate the length of the wall (distance between the two points)\n",
    "    length = abs(y_final - y_initial)  # For north-south walls, x stays constant\n",
    "    \n",
    "    # Append the extracted values to the respective lists\n",
    "    x_coords.append(x_initial)\n",
    "    y_coords.append(y_initial)\n",
    "    lengths_ns.append(length)\n",
    "\n",
    "# Output the extracted lists\n",
    "print(\"Initial X-Coordinates:\", x_coords)\n",
    "print(\"Initial Y-Coordinates (Bottom):\", y_coords)\n",
    "print(\"Lengths:\", lengths_ns)\n"
   ]
  },
  {
   "cell_type": "code",
   "execution_count": 428,
   "id": "090390ef-3625-4c50-83da-c524cf558300",
   "metadata": {},
   "outputs": [
    {
     "name": "stdout",
     "output_type": "stream",
     "text": [
      "Initial X-Coordinates (EW Walls): [35.2, 138.31655555555554]\n",
      "Initial Y-Coordinates (EW Walls): [171.7332222222222, 109.47319999999999]\n",
      "Lengths (EW Walls): [54.87989999999999, 54.8798888888889]\n"
     ]
    }
   ],
   "source": [
    "# # Initialize empty lists to store x-coordinates, y-coordinates, and lengths\n",
    "# ew_x_coords = []\n",
    "# ew_y_coords = []\n",
    "# lengths_ew = []\n",
    "\n",
    "# # Loop through each annotation in the east-west wall annotations\n",
    "# for annot in ew_sw_annots:\n",
    "#     # Extract vertices from the annotation\n",
    "#     vertices = annot.vertices\n",
    "    \n",
    "#     # Initial x and y are the first pair in the vertices\n",
    "#     x_initial = vertices[0]\n",
    "#     y_initial = vertices[1]\n",
    "    \n",
    "#     # Final x and y are the second pair in the vertices\n",
    "#     x_final = vertices[2]\n",
    "#     y_final = vertices[3]\n",
    "    \n",
    "#     # Calculate the length of the wall (distance between two points)\n",
    "#     length = abs(x_final - x_initial)  # For east-west walls, y stays constant\n",
    "    \n",
    "#     # Append the extracted values to the respective lists\n",
    "#     ew_x_coords.append(x_initial)\n",
    "#     ew_y_coords.append(y_initial)\n",
    "#     lengths_ew.append(length)\n",
    "\n",
    "# # Output the extracted lists\n",
    "# print(\"Initial X-Coordinates (EW Walls):\", ew_x_coords)\n",
    "# print(\"Initial Y-Coordinates (EW Walls):\", ew_y_coords)\n",
    "# print(\"Lengths (EW Walls):\", lengths_ew)\n",
    "\n",
    "\n",
    "# Initialize empty lists to store x-coordinates, y-coordinates, and lengths\n",
    "ew_x_coords = []\n",
    "ew_y_coords = []\n",
    "lengths_ew = []\n",
    "\n",
    "# Loop through each annotation in the east-west wall annotations\n",
    "for annot in ew_sw_annots:\n",
    "    # Extract vertices from the annotation\n",
    "    vertices = annot.vertices\n",
    "    \n",
    "    # Extract coordinates for the two endpoints of the wall\n",
    "    x1, y1 = vertices[0], vertices[1]  # First endpoint\n",
    "    x2, y2 = vertices[2], vertices[3]  # Second endpoint\n",
    "    \n",
    "    # Determine the left (initial) and right (final) coordinates\n",
    "    if x1 < x2:  # If x1 is smaller, it's the left\n",
    "        x_initial, y_initial = x1, y1\n",
    "        x_final, y_final = x2, y2\n",
    "    else:  # Otherwise, x2 is the left\n",
    "        x_initial, y_initial = x2, y2\n",
    "        x_final, y_final = x1, y1\n",
    "    \n",
    "    # Calculate the length of the wall (distance between the two points)\n",
    "    length = abs(x_final - x_initial)  # For east-west walls, y stays constant\n",
    "    \n",
    "    # Append the extracted values to the respective lists\n",
    "    ew_x_coords.append(x_initial)\n",
    "    ew_y_coords.append(y_initial)\n",
    "    lengths_ew.append(length)\n",
    "\n",
    "# Output the extracted lists\n",
    "print(\"Initial X-Coordinates (EW Walls):\", ew_x_coords)\n",
    "print(\"Initial Y-Coordinates (EW Walls):\", ew_y_coords)\n",
    "print(\"Lengths (EW Walls):\", lengths_ew)\n",
    "\n"
   ]
  },
  {
   "cell_type": "code",
   "execution_count": 429,
   "id": "7a30d297-c966-45f9-a07e-201aaa5eadd2",
   "metadata": {},
   "outputs": [],
   "source": [
    "heights_ns = []\n",
    "\n",
    "# Extract floor dimensions from Excel\n",
    "# wall_height = sheet.range('J10').value  # Replace 'J12' with the actual cell for floor length\n",
    "wall_height = 3.2\n",
    "\n",
    "\n",
    "for idx,height_ns in enumerate(lengths_ns):\n",
    "    heights_ns.append(wall_height)\n",
    "\n",
    "\n",
    "##-------------------------------------------------------------------------------------------------\n",
    "\n",
    "heights_ew = []\n",
    "\n",
    "# Extract floor dimensions from Excel\n",
    "# wall_height = sheet.range('J10').value  # Replace 'J12' with the actual cell for floor length\n",
    "wall_height = 3.2\n",
    "\n",
    "\n",
    "for idx,height_ns in enumerate(lengths_ew):\n",
    "    heights_ew.append(wall_height)"
   ]
  },
  {
   "cell_type": "code",
   "execution_count": 430,
   "id": "7f40c752-1529-4866-81d5-724fe938bfcd",
   "metadata": {},
   "outputs": [],
   "source": [
    "# Constants\n",
    "FILE_NAME = 'shearwall_data_R3.xlsx'\n",
    "SHEET_NAME = 'SW_info'\n",
    "LONGEST_DIM_NS_CELL = 'J10'\n",
    "LONGEST_DIM_EW_CELL = 'J11'\n",
    "\n",
    "# Workbook and Sheet Setup\n",
    "wb = xw.Book(FILE_NAME)\n",
    "sheet = wb.sheets[SHEET_NAME]\n",
    "ws = sheet\n"
   ]
  },
  {
   "cell_type": "code",
   "execution_count": 431,
   "id": "543c8020-64b9-4b6d-b4c3-d7fdbcc950cc",
   "metadata": {},
   "outputs": [
    {
     "name": "stdout",
     "output_type": "stream",
     "text": [
      "114.14462318064564\n",
      "140.74471203783332\n"
     ]
    }
   ],
   "source": [
    "# x_coords.append(x_initial)\n",
    "# y_coords.append(y_initial)\n",
    "\n",
    "# ew_x_coords.append(x_initial)\n",
    "# ew_y_coords.append(y_initial)\n",
    "\n",
    "\n",
    "# # Calculate the centroid of the floor\n",
    "# floor_centroid_x = floor_geometry.centroid.x\n",
    "# floor_centroid_y = floor_geometry.centroid.y\n",
    "\n",
    "floor_weight = sheet.range('J23').value  # Replace 'L12' with the actual cell for floor weight (optional)\n",
    " \n",
    "\n",
    "# Example usage with extracted wall data\n",
    "# Assuming lengths_ns and heights_ns are lists of lengths and heights for NS walls\n",
    "wall_weights_ns = calculate_wall_weights(lengths_ns, heights_ns)\n",
    "\n",
    "# Assuming lengths_ew and heights_ew are lists of lengths and heights for EW walls\n",
    "wall_weights_ew = calculate_wall_weights(lengths_ew, heights_ew)\n",
    "\n",
    "\n",
    "# Calculate Wall Centers\n",
    "y_centers_ns = calculate_wall_centers(y_coords, lengths_ns, axis='y')\n",
    "x_centers_ew = calculate_wall_centers(ew_x_coords, lengths_ew, axis='x')\n",
    "\n",
    "# Calculate CoM with Floor\n",
    "com_x_with_floor = calculate_center_of_mass_with_floor(wall_weights_ns, x_centers_ew, floor_weight, floor_centroid_x)\n",
    "com_y_with_floor = calculate_center_of_mass_with_floor(wall_weights_ew, y_centers_ns, floor_weight, floor_centroid_y)\n",
    "\n",
    "print(com_x_with_floor)\n",
    "print(com_y_with_floor)\n"
   ]
  },
  {
   "cell_type": "code",
   "execution_count": 432,
   "id": "53ce77f1-d492-4c02-837a-c9034815fc52",
   "metadata": {},
   "outputs": [
    {
     "data": {
      "text/plain": [
       "[19.353596600050214, 19.353596600050214]"
      ]
     },
     "execution_count": 432,
     "metadata": {},
     "output_type": "execute_result"
    }
   ],
   "source": [
    "\n",
    "\n",
    "\n",
    "\n",
    "\n",
    "\n",
    "\n",
    "\n",
    "# Calculate CoR for East-West Walls (x_cr) and North-South Walls (y_cr)\n",
    "x_cr = calculate_center_of_rigidity_relative(lengths_ew, heights_ew, x_centers_ew)  # X-axis CoR from EW walls\n",
    "y_cr = calculate_center_of_rigidity_relative(lengths_ns, heights_ns, y_centers_ns)  # Y-axis CoR from NS walls\n",
    "\n",
    "\n",
    "\n",
    "\n",
    "\n",
    "# The difference between the center of mass and center of rigidity to calculate additional torsional force due to offset or eccentricity\n",
    "\n",
    "ns_offset_list = []\n",
    "for idx,length_ns in enumerate(lengths_ns):\n",
    "    ns_offset_list.append(abs(com_x_with_floor-x_cr))\n",
    "\n",
    "\n",
    "ew_offset_list = []\n",
    "for idx,length_ns in enumerate(lengths_ew):\n",
    "    ew_offset_list.append(abs(com_y_with_floor-y_cr))\n",
    "\n",
    "\n",
    "ns_offset = abs(com_x_with_floor-x_cr)\n",
    "ew_offset = abs(com_y_with_floor-y_cr)\n",
    "\n",
    "\n",
    "\n",
    "\n",
    "\n",
    "# Calculate Normalized Lengths (This is actually the force component based on wall length. It will be used later to distribute the total force in each wall)\n",
    "norm_lengths_ns = calculate_normalized_lengths(lengths_ns)\n",
    "norm_lengths_ew = calculate_normalized_lengths(lengths_ew)\n",
    "\n",
    "\n",
    "\n",
    "\n",
    "\n",
    "# Calculate Torsion and Rigidity Values\n",
    "longest_dim_ns = sheet.range(LONGEST_DIM_NS_CELL).value\n",
    "longest_dim_ew = sheet.range(LONGEST_DIM_EW_CELL).value\n",
    "\n",
    "m_tor_ns = calculate_m_torsion(lengths_ns, longest_dim_ns)\n",
    "m_tor_ew = calculate_m_torsion(lengths_ew, longest_dim_ew)\n",
    "\n",
    "\n",
    "# Element-wise addition for NS\n",
    "total_m_tor_ns = [m + offset for m, offset in zip(m_tor_ns, ns_offset_list)]\n",
    "\n",
    "# Element-wise addition for EW\n",
    "total_m_tor_ew = [m + offset for m, offset in zip(m_tor_ew, ew_offset_list)]\n",
    "\n",
    "\n",
    "\n",
    "total_m_tor_ns"
   ]
  },
  {
   "cell_type": "code",
   "execution_count": 433,
   "id": "a8f8ee1e-ca04-4757-8113-937772abe282",
   "metadata": {},
   "outputs": [
    {
     "data": {
      "text/plain": [
       "[0.5036719093570173, 0.5000934301692723]"
      ]
     },
     "execution_count": 433,
     "metadata": {},
     "output_type": "execute_result"
    }
   ],
   "source": [
    "\n",
    "\n",
    "d_x_ns, Jpx = calculate_rigidity(lengths_ns, ew_x_coords, com_x_with_floor)\n",
    "d_y_ew, Jpy = calculate_rigidity(lengths_ew, y_coords, com_y_with_floor)\n",
    "\n",
    "\n",
    "\n",
    "\n",
    "# Calculate V_total for NS and EW directions\n",
    "V_total_ns_list = calculate_v_total(norm_lengths_ns, m_tor_ns, d_x_ns, Jpx)\n",
    "V_total_ew_list = calculate_v_total(norm_lengths_ew, m_tor_ew, d_y_ew, Jpy)\n",
    "V_total_ns_list\n",
    "V_total_ew_list"
   ]
  },
  {
   "cell_type": "markdown",
   "id": "72fe9e11-a5e0-446a-ae02-15172fd52721",
   "metadata": {},
   "source": [
    "# Plot wall and floor data"
   ]
  },
  {
   "cell_type": "code",
   "execution_count": 434,
   "id": "550c3d4c-b239-4f70-8534-7a1efb9ed6cf",
   "metadata": {},
   "outputs": [],
   "source": [
    "import matplotlib.pyplot as plt\n",
    "from shapely.geometry import MultiPolygon\n",
    "\n",
    "# Plotting function for walls\n",
    "def plot_walls(ax, walls, color, label_prefix):\n",
    "    \"\"\"\n",
    "    Plots the walls with the given color and label prefix.\n",
    "    \n",
    "    Parameters:\n",
    "    - ax: Matplotlib axis object.\n",
    "    - walls: List of Annotation objects containing vertices.\n",
    "    - color: Color to use for plotting the walls.\n",
    "    - label_prefix: Prefix for the legend label.\n",
    "    \"\"\"\n",
    "    for idx, wall in enumerate(walls):\n",
    "        # Extract vertices from the Annotation object\n",
    "        vertices = wall.vertices\n",
    "        x_initial, y_initial = vertices[0], vertices[1]\n",
    "        x_final, y_final = vertices[2], vertices[3]\n",
    "\n",
    "        if label_prefix == 'NS':  # North-South walls (vertical lines)\n",
    "            ax.plot([x_initial, x_final], [y_initial, y_final], color=color, linewidth=2,\n",
    "                    label=f'{label_prefix} Wall' if idx == 0 else \"\")\n",
    "        elif label_prefix == 'EW':  # East-West walls (horizontal lines)\n",
    "            ax.plot([x_initial, x_final], [y_initial, y_final], color=color, linewidth=3,\n",
    "                    label=f'{label_prefix} Wall' if idx == 0 else \"\")\n",
    "\n",
    "# Calculate floor geometry and centroid\n",
    "floor_shapes = annotations.annotations_to_shapely(floor_annots)\n",
    "floor_geometry = MultiPolygon(floor_shapes)\n",
    "floor_centroid_x = floor_geometry.centroid.x\n",
    "floor_centroid_y = floor_geometry.centroid.y\n",
    "\n"
   ]
  },
  {
   "cell_type": "code",
   "execution_count": 435,
   "id": "a7e4a98a-8487-4f93-8e37-fe0218870afa",
   "metadata": {},
   "outputs": [],
   "source": [
    "# Plot the roof diaphragm multipolygon with shear wall layout\n",
    "fig, ax = plt.subplots(figsize=(8, 6))\n",
    "\n",
    "# # Plot the shear walls\n",
    "# plot_shear_wall_layout(ax, x_ns, y_ns, lengths_ns, color='blue', label_prefix='NS')\n",
    "# plot_shear_wall_layout(ax, x_ew, y_ew, lengths_ew, color='red', label_prefix='EW')\n",
    "\n",
    "# Plot North-South walls\n",
    "plot_walls(ax, ns_sw_annots, color='green', label_prefix='NS')\n",
    "\n",
    "# Plot East-West walls\n",
    "plot_walls(ax, ew_sw_annots, color='orange', label_prefix='EW')\n",
    "\n",
    "\n",
    "# Plot the floor geometry\n",
    "for geom in floor_geometry.geoms:\n",
    "    x, y = geom.exterior.xy\n",
    "    ax.plot(x, y, color='blue', linewidth=2, label='Floor')\n",
    "\n",
    "# Plot the floor centroid\n",
    "ax.scatter(floor_centroid_x, floor_centroid_y, color='red', s=100, label='Floor Centroid')\n",
    "\n",
    "# # Plot the roof diaphragm multipolygon\n",
    "# for geom in multi_polygon.geoms:  # Handle each polygon in the MultiPolygon\n",
    "#     x, y = geom.exterior.xy  # Get exterior coordinates\n",
    "#     ax.plot(x, y, color='purple', linewidth=2, label='Roof Diaphragm')  # Plot the outline\n",
    "\n",
    "# # Plot the centroid of the multipolygon\n",
    "# ax.scatter(centroid_x, centroid_y, color='purple', s=100, label='Roof Centroid')\n",
    "\n",
    "# Plot CoM and CoR\n",
    "ax.scatter(com_x_with_floor, com_y_with_floor, color='green', s=100, label='CoM')\n",
    "ax.scatter(x_cr, y_cr, color='orange', s=100, label='CoR')\n",
    "\n",
    "# Annotate Roof Centroid\n",
    "ax.text(floor_centroid_x, floor_centroid_y, f'Centroid ({floor_centroid_x:.2f}, {floor_centroid_y:.2f})',\n",
    "        fontsize=10, color='purple', ha='left', va='bottom')\n",
    "\n",
    "# Annotate CoM\n",
    "ax.text(com_x_with_floor, com_y_with_floor, f'CoM ({com_x_with_floor:.2f}, {com_y_with_floor:.2f})',\n",
    "        fontsize=9, color='green', ha='right', va='bottom')\n",
    "\n",
    "# Annotate CoR\n",
    "ax.text(x_cr, y_cr, f'CoR ({x_cr:.2f}, {y_cr:.2f})',\n",
    "        fontsize=9, color='orange', ha='right', va='bottom')\n",
    "\n",
    "# Formatting the plot\n",
    "ax.set_xlabel('X Coordinate')\n",
    "ax.set_ylabel('Y Coordinate')\n",
    "ax.set_title('Shear Wall Layout with Roof Diaphragm and Centroid')\n",
    "# ax.legend()\n",
    "ax.grid(True)\n",
    "ax.axis('equal')\n",
    "\n",
    "# Embed the plot into Excel\n",
    "ws.pictures.add(fig, name='RoofDiaphragmShearWallPlot', update=True, anchor=ws.range('C64'))\n",
    "plt.show()"
   ]
  },
  {
   "cell_type": "code",
   "execution_count": 436,
   "id": "472f521c-c535-408d-9ed3-796b25681c96",
   "metadata": {},
   "outputs": [],
   "source": [
    "# # Visualization\n",
    "# fig, ax = plt.subplots(figsize=(10, 8))\n",
    "\n",
    "# # Plot the floor geometry\n",
    "# for geom in floor_geometry.geoms:\n",
    "#     x, y = geom.exterior.xy\n",
    "#     ax.plot(x, y, color='blue', linewidth=2, label='Floor')\n",
    "\n",
    "# # # Plot the floor centroid\n",
    "# # ax.scatter(floor_centroid_x, floor_centroid_y, color='red', s=100, label='Floor Centroid')\n",
    "\n",
    "# # Plot the floor centroid\n",
    "# ax.scatter(com_x_with_floor, com_y_with_floor, color='red', s=100, label='Floor Centroid')\n",
    "\n",
    "# # Plot North-South walls\n",
    "# plot_walls(ax, ns_sw_annots, color='green', label_prefix='NS')\n",
    "\n",
    "# # Plot East-West walls\n",
    "# plot_walls(ax, ew_sw_annots, color='orange', label_prefix='EW')\n",
    "\n",
    "# # Annotate the floor centroid\n",
    "# ax.text(floor_centroid_x, floor_centroid_y, f'Floor Centroid ({floor_centroid_x:.2f}, {floor_centroid_y:.2f})',\n",
    "#         fontsize=10, color='red', ha='left', va='bottom')\n",
    "\n",
    "# # Formatting the plot\n",
    "# ax.set_xlabel('X Coordinate')\n",
    "# ax.set_ylabel('Y Coordinate')\n",
    "# ax.set_title('Floor Geometry and Shear Walls')\n",
    "# ax.legend()\n",
    "# ax.grid(True)\n",
    "# ax.axis('equal')\n",
    "\n",
    "\n",
    "\n",
    "# # Embed the plot into Excel\n",
    "# ws.pictures.add(fig, name='RoofDiaphragmShearWallPlot', update=True, anchor=ws.range('C64'))\n",
    "# plt.show()\n"
   ]
  },
  {
   "cell_type": "code",
   "execution_count": 437,
   "id": "7e5c6227-7590-4fbb-be95-a1877600c3f0",
   "metadata": {},
   "outputs": [],
   "source": [
    "\n",
    "#----------------------------------------------------------------------------------------------------------------------------\n",
    "# All output results to excel\n",
    "#----------------------------------------------------------------------------------------------------------------------------\n",
    "\n",
    "\n",
    "#--------------------------------------------------------------------------------\n",
    "# Output results to Excel\n",
    "#--------------------------------------------------------------------------------\n",
    "sheet.range('J13').value = com_x_with_floor\n",
    "sheet.range('J14').value = com_y_with_floor\n",
    "\n",
    "\n",
    "sheet.range('J16').value = x_cr  # X-coordinate of Center of Rigidity\n",
    "sheet.range('J17').value = y_cr  # Y-coordinate of Center of Rigidity\n",
    "\n",
    "\n",
    "# Output CoR results to Excel\n",
    "sheet.range('N13').value = ns_offset  # X-coordinate of Center of Rigidity\n",
    "sheet.range('N14').value = ew_offset  # Y-coordinate of Center of Rigidity\n",
    "\n",
    "\n",
    "# Output Normalized Lengths to Excel\n",
    "sheet.range('J29').options(transpose=True).value = norm_lengths_ns\n",
    "sheet.range('V29').options(transpose=True).value = norm_lengths_ew\n",
    "\n",
    "\n",
    "sheet.range('K29').options(transpose=True).value = total_m_tor_ns\n",
    "sheet.range('W29').options(transpose=True).value = total_m_tor_ew\n",
    "\n",
    "\n",
    "sheet.range('I29').options(transpose=True).value = d_x_ns\n",
    "sheet.range('U29').options(transpose=True).value = d_y_ew\n",
    "sheet.range('J19').value = Jpx\n",
    "sheet.range('J20').value = Jpy\n",
    "\n",
    "# Output V_total Results to Excel\n",
    "sheet.range('L29').options(transpose=True).value = V_total_ns_list\n",
    "sheet.range('X29').options(transpose=True).value = V_total_ew_list\n",
    "\n",
    "\n"
   ]
  }
 ],
 "metadata": {
  "kernelspec": {
   "display_name": "Python 3 (ipykernel)",
   "language": "python",
   "name": "python3"
  },
  "language_info": {
   "codemirror_mode": {
    "name": "ipython",
    "version": 3
   },
   "file_extension": ".py",
   "mimetype": "text/x-python",
   "name": "python",
   "nbconvert_exporter": "python",
   "pygments_lexer": "ipython3",
   "version": "3.9.12"
  }
 },
 "nbformat": 4,
 "nbformat_minor": 5
}
